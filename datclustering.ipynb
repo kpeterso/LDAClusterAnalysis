{
 "cells": [
  {
   "cell_type": "code",
   "execution_count": 3,
   "metadata": {
    "collapsed": false
   },
   "outputs": [],
   "source": [
    "%matplotlib inline\n",
    "from sklearn.cluster import KMeans\n",
    "import pandas as pd\n",
    "import numpy as np\n",
    "from sklearn.metrics import silhouette_samples, silhouette_score\n",
    "import matplotlib\n",
    "from matplotlib import pyplot as plt"
   ]
  },
  {
   "cell_type": "code",
   "execution_count": 46,
   "metadata": {
    "collapsed": false
   },
   "outputs": [],
   "source": [
    "df=pd.read_csv('Data/SV Clustering Data.csv', sep=',')\n",
    "#df=df.drop('Respondent Number',1)"
   ]
  },
  {
   "cell_type": "code",
   "execution_count": 47,
   "metadata": {
    "collapsed": false
   },
   "outputs": [
    {
     "data": {
      "text/plain": [
       "dtype('int64')"
      ]
     },
     "execution_count": 47,
     "metadata": {},
     "output_type": "execute_result"
    }
   ],
   "source": [
    "df['Gender'].dtype"
   ]
  },
  {
   "cell_type": "code",
   "execution_count": 16,
   "metadata": {
    "collapsed": false
   },
   "outputs": [],
   "source": [
    "#pd.get_dummies(df['Marital Status'], prefix='Marital Status').head()"
   ]
  },
  {
   "cell_type": "code",
   "execution_count": null,
   "metadata": {
    "collapsed": false
   },
   "outputs": [],
   "source": [
    "df = pd.concat([df, pd.get_dummies(df['Marital Status'], prefix='Marital Status')], axis=1)\n",
    "df = df.drop(['Marital Status'], axis=1)\n",
    "#df=df.drop(['ID'], axis=1)\n",
    "df.head(n=3)"
   ]
  },
  {
   "cell_type": "code",
   "execution_count": 40,
   "metadata": {
    "collapsed": false
   },
   "outputs": [
    {
     "data": {
      "text/html": [
       "<div>\n",
       "<table border=\"1\" class=\"dataframe\">\n",
       "  <thead>\n",
       "    <tr style=\"text-align: right;\">\n",
       "      <th></th>\n",
       "      <th>ID</th>\n",
       "      <th>Gender</th>\n",
       "      <th>Income Bin</th>\n",
       "      <th>Marital Status</th>\n",
       "      <th>Age</th>\n",
       "      <th>Children Under 6</th>\n",
       "      <th>Children 6 To 12</th>\n",
       "      <th>Children 13 To 17</th>\n",
       "      <th>People 18 or Older</th>\n",
       "      <th>Driving Area</th>\n",
       "      <th>...</th>\n",
       "      <th>Storage</th>\n",
       "      <th>Amenities</th>\n",
       "      <th>E/T</th>\n",
       "      <th>Other</th>\n",
       "      <th>Safety</th>\n",
       "      <th>Value</th>\n",
       "      <th>Gas</th>\n",
       "      <th>Image</th>\n",
       "      <th>Dealer</th>\n",
       "      <th>Ads</th>\n",
       "    </tr>\n",
       "  </thead>\n",
       "  <tbody>\n",
       "    <tr>\n",
       "      <th>0</th>\n",
       "      <td>73659</td>\n",
       "      <td>0</td>\n",
       "      <td>1</td>\n",
       "      <td>1</td>\n",
       "      <td>38</td>\n",
       "      <td>0</td>\n",
       "      <td>0</td>\n",
       "      <td>0</td>\n",
       "      <td>1</td>\n",
       "      <td>3</td>\n",
       "      <td>...</td>\n",
       "      <td>1.0</td>\n",
       "      <td>1.000</td>\n",
       "      <td>1.00</td>\n",
       "      <td>1.000000</td>\n",
       "      <td>1.00</td>\n",
       "      <td>1.000</td>\n",
       "      <td>1.000000</td>\n",
       "      <td>1.000000</td>\n",
       "      <td>1.00</td>\n",
       "      <td>1.000000</td>\n",
       "    </tr>\n",
       "    <tr>\n",
       "      <th>1</th>\n",
       "      <td>5461</td>\n",
       "      <td>0</td>\n",
       "      <td>8</td>\n",
       "      <td>1</td>\n",
       "      <td>43</td>\n",
       "      <td>0</td>\n",
       "      <td>0</td>\n",
       "      <td>0</td>\n",
       "      <td>1</td>\n",
       "      <td>3</td>\n",
       "      <td>...</td>\n",
       "      <td>3.4</td>\n",
       "      <td>2.750</td>\n",
       "      <td>4.75</td>\n",
       "      <td>3.000000</td>\n",
       "      <td>4.25</td>\n",
       "      <td>2.875</td>\n",
       "      <td>4.333333</td>\n",
       "      <td>2.666667</td>\n",
       "      <td>3.75</td>\n",
       "      <td>2.666667</td>\n",
       "    </tr>\n",
       "    <tr>\n",
       "      <th>2</th>\n",
       "      <td>67118</td>\n",
       "      <td>0</td>\n",
       "      <td>19</td>\n",
       "      <td>3</td>\n",
       "      <td>54</td>\n",
       "      <td>0</td>\n",
       "      <td>0</td>\n",
       "      <td>2</td>\n",
       "      <td>2</td>\n",
       "      <td>2</td>\n",
       "      <td>...</td>\n",
       "      <td>3.8</td>\n",
       "      <td>3.250</td>\n",
       "      <td>3.00</td>\n",
       "      <td>1.666667</td>\n",
       "      <td>3.50</td>\n",
       "      <td>3.500</td>\n",
       "      <td>4.000000</td>\n",
       "      <td>2.000000</td>\n",
       "      <td>1.25</td>\n",
       "      <td>1.000000</td>\n",
       "    </tr>\n",
       "    <tr>\n",
       "      <th>3</th>\n",
       "      <td>76997</td>\n",
       "      <td>0</td>\n",
       "      <td>9</td>\n",
       "      <td>3</td>\n",
       "      <td>67</td>\n",
       "      <td>0</td>\n",
       "      <td>0</td>\n",
       "      <td>0</td>\n",
       "      <td>2</td>\n",
       "      <td>3</td>\n",
       "      <td>...</td>\n",
       "      <td>3.6</td>\n",
       "      <td>4.000</td>\n",
       "      <td>4.00</td>\n",
       "      <td>4.000000</td>\n",
       "      <td>4.00</td>\n",
       "      <td>3.625</td>\n",
       "      <td>4.000000</td>\n",
       "      <td>4.000000</td>\n",
       "      <td>3.50</td>\n",
       "      <td>2.666667</td>\n",
       "    </tr>\n",
       "    <tr>\n",
       "      <th>4</th>\n",
       "      <td>58986</td>\n",
       "      <td>1</td>\n",
       "      <td>16</td>\n",
       "      <td>3</td>\n",
       "      <td>68</td>\n",
       "      <td>1</td>\n",
       "      <td>1</td>\n",
       "      <td>0</td>\n",
       "      <td>6</td>\n",
       "      <td>1</td>\n",
       "      <td>...</td>\n",
       "      <td>3.0</td>\n",
       "      <td>3.125</td>\n",
       "      <td>3.25</td>\n",
       "      <td>3.000000</td>\n",
       "      <td>4.00</td>\n",
       "      <td>3.000</td>\n",
       "      <td>2.333333</td>\n",
       "      <td>4.000000</td>\n",
       "      <td>1.50</td>\n",
       "      <td>1.666667</td>\n",
       "    </tr>\n",
       "  </tbody>\n",
       "</table>\n",
       "<p>5 rows × 51 columns</p>\n",
       "</div>"
      ],
      "text/plain": [
       "      ID  Gender  Income Bin  Marital Status  Age  Children Under 6  \\\n",
       "0  73659       0           1               1   38                 0   \n",
       "1   5461       0           8               1   43                 0   \n",
       "2  67118       0          19               3   54                 0   \n",
       "3  76997       0           9               3   67                 0   \n",
       "4  58986       1          16               3   68                 1   \n",
       "\n",
       "   Children 6 To 12  Children 13 To 17  People 18 or Older  Driving Area  \\\n",
       "0                 0                  0                   1             3   \n",
       "1                 0                  0                   1             3   \n",
       "2                 0                  2                   2             2   \n",
       "3                 0                  0                   2             3   \n",
       "4                 1                  0                   6             1   \n",
       "\n",
       "     ...     Storage  Amenities   E/T     Other  Safety  Value       Gas  \\\n",
       "0    ...         1.0      1.000  1.00  1.000000    1.00  1.000  1.000000   \n",
       "1    ...         3.4      2.750  4.75  3.000000    4.25  2.875  4.333333   \n",
       "2    ...         3.8      3.250  3.00  1.666667    3.50  3.500  4.000000   \n",
       "3    ...         3.6      4.000  4.00  4.000000    4.00  3.625  4.000000   \n",
       "4    ...         3.0      3.125  3.25  3.000000    4.00  3.000  2.333333   \n",
       "\n",
       "      Image  Dealer       Ads  \n",
       "0  1.000000    1.00  1.000000  \n",
       "1  2.666667    3.75  2.666667  \n",
       "2  2.000000    1.25  1.000000  \n",
       "3  4.000000    3.50  2.666667  \n",
       "4  4.000000    1.50  1.666667  \n",
       "\n",
       "[5 rows x 51 columns]"
      ]
     },
     "execution_count": 40,
     "metadata": {},
     "output_type": "execute_result"
    }
   ],
   "source": [
    "df=df.reindex(np.random.permutation(df.index))\n",
    "df=df.reset_index()\n",
    "df=df.drop([\"index\"],axis=1)\n",
    "df.head()"
   ]
  },
  {
   "cell_type": "code",
   "execution_count": 41,
   "metadata": {
    "collapsed": false
   },
   "outputs": [],
   "source": [
    "X=df.values[:,1:]\n",
    "best_n=8\n",
    "best_clusterer=KMeans(n_clusters=best_n)\n",
    "cluster_labels=best_clusterer.fit_predict(X)\n",
    "clusterCenters=best_clusterer.cluster_centers_"
   ]
  },
  {
   "cell_type": "code",
   "execution_count": 42,
   "metadata": {
    "collapsed": false
   },
   "outputs": [],
   "source": [
    "clusterFrame=pd.DataFrame(cluster_labels)\n",
    "centersFrame=pd.DataFrame(clusterCenters)\n",
    "outData=pd.concat([clusterFrame, df],axis=1)"
   ]
  },
  {
   "cell_type": "code",
   "execution_count": 43,
   "metadata": {
    "collapsed": false
   },
   "outputs": [
    {
     "data": {
      "text/html": [
       "<div>\n",
       "<table border=\"1\" class=\"dataframe\">\n",
       "  <thead>\n",
       "    <tr style=\"text-align: right;\">\n",
       "      <th></th>\n",
       "      <th>0</th>\n",
       "      <th>ID</th>\n",
       "      <th>Gender</th>\n",
       "      <th>Income Bin</th>\n",
       "      <th>Marital Status</th>\n",
       "      <th>Age</th>\n",
       "      <th>Children Under 6</th>\n",
       "      <th>Children 6 To 12</th>\n",
       "      <th>Children 13 To 17</th>\n",
       "      <th>People 18 or Older</th>\n",
       "      <th>...</th>\n",
       "      <th>Storage</th>\n",
       "      <th>Amenities</th>\n",
       "      <th>E/T</th>\n",
       "      <th>Other</th>\n",
       "      <th>Safety</th>\n",
       "      <th>Value</th>\n",
       "      <th>Gas</th>\n",
       "      <th>Image</th>\n",
       "      <th>Dealer</th>\n",
       "      <th>Ads</th>\n",
       "    </tr>\n",
       "  </thead>\n",
       "  <tbody>\n",
       "    <tr>\n",
       "      <th>0</th>\n",
       "      <td>7</td>\n",
       "      <td>73659</td>\n",
       "      <td>0</td>\n",
       "      <td>1</td>\n",
       "      <td>1</td>\n",
       "      <td>38</td>\n",
       "      <td>0</td>\n",
       "      <td>0</td>\n",
       "      <td>0</td>\n",
       "      <td>1</td>\n",
       "      <td>...</td>\n",
       "      <td>1.0</td>\n",
       "      <td>1.00</td>\n",
       "      <td>1.00</td>\n",
       "      <td>1.000000</td>\n",
       "      <td>1.00</td>\n",
       "      <td>1.000</td>\n",
       "      <td>1.000000</td>\n",
       "      <td>1.000000</td>\n",
       "      <td>1.00</td>\n",
       "      <td>1.000000</td>\n",
       "    </tr>\n",
       "    <tr>\n",
       "      <th>1</th>\n",
       "      <td>7</td>\n",
       "      <td>5461</td>\n",
       "      <td>0</td>\n",
       "      <td>8</td>\n",
       "      <td>1</td>\n",
       "      <td>43</td>\n",
       "      <td>0</td>\n",
       "      <td>0</td>\n",
       "      <td>0</td>\n",
       "      <td>1</td>\n",
       "      <td>...</td>\n",
       "      <td>3.4</td>\n",
       "      <td>2.75</td>\n",
       "      <td>4.75</td>\n",
       "      <td>3.000000</td>\n",
       "      <td>4.25</td>\n",
       "      <td>2.875</td>\n",
       "      <td>4.333333</td>\n",
       "      <td>2.666667</td>\n",
       "      <td>3.75</td>\n",
       "      <td>2.666667</td>\n",
       "    </tr>\n",
       "    <tr>\n",
       "      <th>2</th>\n",
       "      <td>0</td>\n",
       "      <td>67118</td>\n",
       "      <td>0</td>\n",
       "      <td>19</td>\n",
       "      <td>3</td>\n",
       "      <td>54</td>\n",
       "      <td>0</td>\n",
       "      <td>0</td>\n",
       "      <td>2</td>\n",
       "      <td>2</td>\n",
       "      <td>...</td>\n",
       "      <td>3.8</td>\n",
       "      <td>3.25</td>\n",
       "      <td>3.00</td>\n",
       "      <td>1.666667</td>\n",
       "      <td>3.50</td>\n",
       "      <td>3.500</td>\n",
       "      <td>4.000000</td>\n",
       "      <td>2.000000</td>\n",
       "      <td>1.25</td>\n",
       "      <td>1.000000</td>\n",
       "    </tr>\n",
       "  </tbody>\n",
       "</table>\n",
       "<p>3 rows × 52 columns</p>\n",
       "</div>"
      ],
      "text/plain": [
       "   0     ID  Gender  Income Bin  Marital Status  Age  Children Under 6  \\\n",
       "0  7  73659       0           1               1   38                 0   \n",
       "1  7   5461       0           8               1   43                 0   \n",
       "2  0  67118       0          19               3   54                 0   \n",
       "\n",
       "   Children 6 To 12  Children 13 To 17  People 18 or Older    ...     Storage  \\\n",
       "0                 0                  0                   1    ...         1.0   \n",
       "1                 0                  0                   1    ...         3.4   \n",
       "2                 0                  2                   2    ...         3.8   \n",
       "\n",
       "   Amenities   E/T     Other  Safety  Value       Gas     Image  Dealer  \\\n",
       "0       1.00  1.00  1.000000    1.00  1.000  1.000000  1.000000    1.00   \n",
       "1       2.75  4.75  3.000000    4.25  2.875  4.333333  2.666667    3.75   \n",
       "2       3.25  3.00  1.666667    3.50  3.500  4.000000  2.000000    1.25   \n",
       "\n",
       "        Ads  \n",
       "0  1.000000  \n",
       "1  2.666667  \n",
       "2  1.000000  \n",
       "\n",
       "[3 rows x 52 columns]"
      ]
     },
     "execution_count": 43,
     "metadata": {},
     "output_type": "execute_result"
    }
   ],
   "source": [
    "outData.head(n=3)"
   ]
  },
  {
   "cell_type": "code",
   "execution_count": 44,
   "metadata": {
    "collapsed": false
   },
   "outputs": [],
   "source": [
    "outData.to_csv(\"results/SV ClusterLabels.csv\", sep=',')\n",
    "centersFrame.to_csv(\"results/SV ClusterCenters.csv\", sep=',')"
   ]
  },
  {
   "cell_type": "code",
   "execution_count": 45,
   "metadata": {
    "collapsed": false
   },
   "outputs": [
    {
     "data": {
      "text/plain": [
       "<matplotlib.image.AxesImage at 0x7f8787fd93d0>"
      ]
     },
     "execution_count": 45,
     "metadata": {},
     "output_type": "execute_result"
    },
    {
     "data": {
      "image/png": "[encoded data removed]",
      "text/plain": [
       "<matplotlib.figure.Figure at 0x7f878bd02d50>"
      ]
     },
     "metadata": {},
     "output_type": "display_data"
    }
   ],
   "source": [
    "plt.matshow(df.corr())"
   ]
  },
  {
   "cell_type": "code",
   "execution_count": null,
   "metadata": {
    "collapsed": false
   },
   "outputs": [],
   "source": [
    "X=df.sample(n=1000).values[:,2:]\n",
    "tsnemodel = TSNE(n_components=2)\n",
    "tsnedata=tsnemodel.fit_transform(X[1:])"
   ]
  },
  {
   "cell_type": "code",
   "execution_count": null,
   "metadata": {
    "collapsed": false
   },
   "outputs": [],
   "source": [
    "plt.scatter(tsnedata[:,0],tsnedata[:,1])"
   ]
  },
  {
   "cell_type": "code",
   "execution_count": null,
   "metadata": {
    "collapsed": true
   },
   "outputs": [],
   "source": [
    "print()"
   ]
  }
 ],
 "metadata": {
  "kernelspec": {
   "display_name": "Python 2",
   "language": "python",
   "name": "python2"
  },
  "language_info": {
   "codemirror_mode": {
    "name": "ipython",
    "version": 2
   },
   "file_extension": ".py",
   "mimetype": "text/x-python",
   "name": "python",
   "nbconvert_exporter": "python",
   "pygments_lexer": "ipython2",
   "version": "2.7.6"
  }
 },
 "nbformat": 4,
 "nbformat_minor": 0
}
