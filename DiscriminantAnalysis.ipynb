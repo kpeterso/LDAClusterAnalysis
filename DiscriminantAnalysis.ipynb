{
 "cells": [
  {
   "cell_type": "code",
   "execution_count": 1,
   "metadata": {
    "collapsed": false
   },
   "outputs": [
    {
     "name": "stderr",
     "output_type": "stream",
     "text": [
      "/usr/local/lib/python2.7/dist-packages/sklearn/cross_validation.py:44: DeprecationWarning: This module was deprecated in version 0.18 in favor of the model_selection module into which all the refactored classes and functions are moved. Also note that the interface of the new CV iterators are different from that of this module. This module will be removed in 0.20.\n",
      "  \"This module will be removed in 0.20.\", DeprecationWarning)\n"
     ]
    }
   ],
   "source": [
    "from sklearn.discriminant_analysis import LinearDiscriminantAnalysis as LDA\n",
    "import pandas as pd\n",
    "import numpy as np\n",
    "from sklearn.cross_validation import train_test_split"
   ]
  },
  {
   "cell_type": "code",
   "execution_count": 5,
   "metadata": {
    "collapsed": false,
    "scrolled": true
   },
   "outputs": [],
   "source": [
    "df=pd.read_csv('Data/SV 2016 data edited 12202016.csv', sep=',')"
   ]
  },
  {
   "cell_type": "code",
   "execution_count": 6,
   "metadata": {
    "collapsed": false
   },
   "outputs": [
    {
     "data": {
      "text/html": [
       "<div>\n",
       "<table border=\"1\" class=\"dataframe\">\n",
       "  <thead>\n",
       "    <tr style=\"text-align: right;\">\n",
       "      <th></th>\n",
       "      <th>ID</th>\n",
       "      <th>New Model Purchased (Alpha Order)</th>\n",
       "      <th>New Model Purchased - Brand</th>\n",
       "      <th>New Model Segment</th>\n",
       "      <th>Segmentation 1</th>\n",
       "      <th>Model Year of Purchase</th>\n",
       "      <th>Type Of Transmission</th>\n",
       "      <th>Feature_Heated Seats</th>\n",
       "      <th>Feature_Keyless Access/Start</th>\n",
       "      <th>Feature_Power sliding doors</th>\n",
       "      <th>...</th>\n",
       "      <th>PD_Ease Of Customizing</th>\n",
       "      <th>PD_Engine Performance</th>\n",
       "      <th>PD_Connectivity (WiFi, Bluetooth, etc.)</th>\n",
       "      <th>PD_Interactive Information System (OnStar, mbrace, iDrive, etc.)</th>\n",
       "      <th>PD_Driving Distance on Full Tank/Charge</th>\n",
       "      <th>Most Important Purchase Reason</th>\n",
       "      <th>Seriously Consider Other Models ?</th>\n",
       "      <th>Segment Most Seriously Considered</th>\n",
       "      <th>Most Important Reason Didn't Buy Model Most Seriously Considered</th>\n",
       "      <th>Purchase Price (100's)</th>\n",
       "    </tr>\n",
       "  </thead>\n",
       "  <tbody>\n",
       "    <tr>\n",
       "      <th>0</th>\n",
       "      <td>10799</td>\n",
       "      <td>Honda Accord Coupe</td>\n",
       "      <td>Honda</td>\n",
       "      <td>Mid-Specialty</td>\n",
       "      <td>Standard Specialty</td>\n",
       "      <td>2016</td>\n",
       "      <td>Automatic</td>\n",
       "      <td>1</td>\n",
       "      <td>1</td>\n",
       "      <td>0</td>\n",
       "      <td>...</td>\n",
       "      <td>1</td>\n",
       "      <td>4</td>\n",
       "      <td>4</td>\n",
       "      <td>2</td>\n",
       "      <td>4</td>\n",
       "      <td>Overall experience with the selling dealership</td>\n",
       "      <td>0</td>\n",
       "      <td>No Other Make Considered</td>\n",
       "      <td>None</td>\n",
       "      <td>31000</td>\n",
       "    </tr>\n",
       "    <tr>\n",
       "      <th>1</th>\n",
       "      <td>53184</td>\n",
       "      <td>Ford Explorer</td>\n",
       "      <td>Ford</td>\n",
       "      <td>Mid-Size Traditional Utility</td>\n",
       "      <td>Full-Size SUV</td>\n",
       "      <td>2016</td>\n",
       "      <td>Automatic</td>\n",
       "      <td>1</td>\n",
       "      <td>1</td>\n",
       "      <td>0</td>\n",
       "      <td>...</td>\n",
       "      <td>4</td>\n",
       "      <td>4</td>\n",
       "      <td>4</td>\n",
       "      <td>4</td>\n",
       "      <td>4</td>\n",
       "      <td>Passenger seating capacity</td>\n",
       "      <td>1</td>\n",
       "      <td>SUV</td>\n",
       "      <td>Weight (too heavy / too light)</td>\n",
       "      <td>38000</td>\n",
       "    </tr>\n",
       "    <tr>\n",
       "      <th>2</th>\n",
       "      <td>27645</td>\n",
       "      <td>MINI Cooper 4-door Hardtop</td>\n",
       "      <td>Mini</td>\n",
       "      <td>Specialty Coupe</td>\n",
       "      <td>Small Car</td>\n",
       "      <td>2016</td>\n",
       "      <td>Automatic</td>\n",
       "      <td>1</td>\n",
       "      <td>1</td>\n",
       "      <td>0</td>\n",
       "      <td>...</td>\n",
       "      <td>3</td>\n",
       "      <td>4</td>\n",
       "      <td>4</td>\n",
       "      <td>2</td>\n",
       "      <td>4</td>\n",
       "      <td>Fun to drive</td>\n",
       "      <td>1</td>\n",
       "      <td>Luxury Car</td>\n",
       "      <td>Other (not listed)</td>\n",
       "      <td>31600</td>\n",
       "    </tr>\n",
       "    <tr>\n",
       "      <th>3</th>\n",
       "      <td>16356</td>\n",
       "      <td>Nissan Juke</td>\n",
       "      <td>Nissan</td>\n",
       "      <td>Small Multi-Function</td>\n",
       "      <td>Small Car</td>\n",
       "      <td>2015</td>\n",
       "      <td>Automatic</td>\n",
       "      <td>0</td>\n",
       "      <td>1</td>\n",
       "      <td>0</td>\n",
       "      <td>...</td>\n",
       "      <td>2</td>\n",
       "      <td>2</td>\n",
       "      <td>3</td>\n",
       "      <td>2</td>\n",
       "      <td>1</td>\n",
       "      <td>Riding comfort</td>\n",
       "      <td>1</td>\n",
       "      <td>SUV</td>\n",
       "      <td>Not unique/looks like all the others/everyone ...</td>\n",
       "      <td>18000</td>\n",
       "    </tr>\n",
       "    <tr>\n",
       "      <th>4</th>\n",
       "      <td>33100</td>\n",
       "      <td>Mercedes C-Class Sdn</td>\n",
       "      <td>Mercedes-Benz</td>\n",
       "      <td>Near Luxury</td>\n",
       "      <td>Luxury Mid-Size Car</td>\n",
       "      <td>2016</td>\n",
       "      <td>Automatic</td>\n",
       "      <td>1</td>\n",
       "      <td>1</td>\n",
       "      <td>0</td>\n",
       "      <td>...</td>\n",
       "      <td>2</td>\n",
       "      <td>3</td>\n",
       "      <td>4</td>\n",
       "      <td>2</td>\n",
       "      <td>3</td>\n",
       "      <td>Past experience with brand</td>\n",
       "      <td>0</td>\n",
       "      <td>No Other Make Considered</td>\n",
       "      <td>None</td>\n",
       "      <td>42000</td>\n",
       "    </tr>\n",
       "  </tbody>\n",
       "</table>\n",
       "<p>5 rows × 235 columns</p>\n",
       "</div>"
      ],
      "text/plain": [
       "      ID New Model Purchased (Alpha Order) New Model Purchased - Brand  \\\n",
       "0  10799                Honda Accord Coupe                       Honda   \n",
       "1  53184                     Ford Explorer                        Ford   \n",
       "2  27645        MINI Cooper 4-door Hardtop                        Mini   \n",
       "3  16356                       Nissan Juke                      Nissan   \n",
       "4  33100              Mercedes C-Class Sdn               Mercedes-Benz   \n",
       "\n",
       "              New Model Segment       Segmentation 1  Model Year of Purchase  \\\n",
       "0                 Mid-Specialty   Standard Specialty                    2016   \n",
       "1  Mid-Size Traditional Utility        Full-Size SUV                    2016   \n",
       "2               Specialty Coupe            Small Car                    2016   \n",
       "3          Small Multi-Function            Small Car                    2015   \n",
       "4                   Near Luxury  Luxury Mid-Size Car                    2016   \n",
       "\n",
       "  Type Of Transmission  Feature_Heated Seats  Feature_Keyless Access/Start  \\\n",
       "0            Automatic                     1                             1   \n",
       "1            Automatic                     1                             1   \n",
       "2            Automatic                     1                             1   \n",
       "3            Automatic                     0                             1   \n",
       "4            Automatic                     1                             1   \n",
       "\n",
       "   Feature_Power sliding doors           ...            \\\n",
       "0                            0           ...             \n",
       "1                            0           ...             \n",
       "2                            0           ...             \n",
       "3                            0           ...             \n",
       "4                            0           ...             \n",
       "\n",
       "   PD_Ease Of Customizing  PD_Engine Performance  \\\n",
       "0                       1                      4   \n",
       "1                       4                      4   \n",
       "2                       3                      4   \n",
       "3                       2                      2   \n",
       "4                       2                      3   \n",
       "\n",
       "   PD_Connectivity (WiFi, Bluetooth, etc.)  \\\n",
       "0                                        4   \n",
       "1                                        4   \n",
       "2                                        4   \n",
       "3                                        3   \n",
       "4                                        4   \n",
       "\n",
       "   PD_Interactive Information System (OnStar, mbrace, iDrive, etc.)  \\\n",
       "0                                                  2                  \n",
       "1                                                  4                  \n",
       "2                                                  2                  \n",
       "3                                                  2                  \n",
       "4                                                  2                  \n",
       "\n",
       "   PD_Driving Distance on Full Tank/Charge  \\\n",
       "0                                        4   \n",
       "1                                        4   \n",
       "2                                        4   \n",
       "3                                        1   \n",
       "4                                        3   \n",
       "\n",
       "                   Most Important Purchase Reason  \\\n",
       "0  Overall experience with the selling dealership   \n",
       "1                      Passenger seating capacity   \n",
       "2                                    Fun to drive   \n",
       "3                                  Riding comfort   \n",
       "4                      Past experience with brand   \n",
       "\n",
       "   Seriously Consider Other Models ?  Segment Most Seriously Considered  \\\n",
       "0                                  0           No Other Make Considered   \n",
       "1                                  1                                SUV   \n",
       "2                                  1                         Luxury Car   \n",
       "3                                  1                                SUV   \n",
       "4                                  0           No Other Make Considered   \n",
       "\n",
       "   Most Important Reason Didn't Buy Model Most Seriously Considered  \\\n",
       "0                                               None                  \n",
       "1                     Weight (too heavy / too light)                  \n",
       "2                                 Other (not listed)                  \n",
       "3  Not unique/looks like all the others/everyone ...                  \n",
       "4                                               None                  \n",
       "\n",
       "   Purchase Price (100's)  \n",
       "0                   31000  \n",
       "1                   38000  \n",
       "2                   31600  \n",
       "3                   18000  \n",
       "4                   42000  \n",
       "\n",
       "[5 rows x 235 columns]"
      ]
     },
     "execution_count": 6,
     "metadata": {},
     "output_type": "execute_result"
    }
   ],
   "source": [
    "df.dropna()\n",
    "df=df.reindex(np.random.permutation(df.index))\n",
    "df=df.reset_index()\n",
    "df=df.drop([\"index\"],axis=1)\n",
    "#df=df.drop([\"Drive Type\"],axis=1)\n",
    "df.head()"
   ]
  },
  {
   "cell_type": "code",
   "execution_count": 26,
   "metadata": {
    "collapsed": false
   },
   "outputs": [
    {
     "data": {
      "text/plain": [
       "'PT_Was offered an attractive deal for previous vehicle'"
      ]
     },
     "execution_count": 26,
     "metadata": {},
     "output_type": "execute_result"
    }
   ],
   "source": [
    "df.columns.tolist()[131]"
   ]
  },
  {
   "cell_type": "code",
   "execution_count": 20,
   "metadata": {
    "collapsed": false
   },
   "outputs": [],
   "source": [
    "ycol=7\n",
    "xcol=8\n",
    "data=df.values\n",
    "y=data[:,ycol]\n",
    "y = np.array(y).astype('int')\n",
    "X=data[:,xcol:]\n",
    "Xtrain,Xtest,ytrain,ytest=train_test_split(X,y,stratify=y)"
   ]
  },
  {
   "cell_type": "code",
   "execution_count": 21,
   "metadata": {
    "collapsed": false
   },
   "outputs": [
    {
     "data": {
      "text/plain": [
       "LinearDiscriminantAnalysis(n_components=None, priors=None, shrinkage=None,\n",
       "              solver='svd', store_covariance=False, tol=0.0001)"
      ]
     },
     "execution_count": 21,
     "metadata": {},
     "output_type": "execute_result"
    }
   ],
   "source": [
    "clfeig = LDA(solver='eigen', shrinkage='auto')\n",
    "clfsqr = LDA(solver='lsqr', shrinkage='auto')\n",
    "clfsvd = LDA()\n",
    "clfeig.fit(Xtrain, ytrain)\n",
    "clfsqr.fit(Xtrain, ytrain)\n",
    "clfsvd.fit(Xtrain, ytrain)"
   ]
  },
  {
   "cell_type": "code",
   "execution_count": 22,
   "metadata": {
    "collapsed": false
   },
   "outputs": [
    {
     "name": "stdout",
     "output_type": "stream",
     "text": [
      "0.427619893428\n",
      "0.408081705151\n",
      "0.427915926584\n"
     ]
    }
   ],
   "source": [
    "print(clfsqr.score(Xtest,ytest))\n",
    "print(clfeig.score(Xtest,ytest))\n",
    "print(clfsvd.score(Xtest,ytest))"
   ]
  },
  {
   "cell_type": "code",
   "execution_count": 23,
   "metadata": {
    "collapsed": false
   },
   "outputs": [
    {
     "ename": "KeyError",
     "evalue": "'Cluster'",
     "output_type": "error",
     "traceback": [
      "\u001b[1;31m---------------------------------------------------------------------------\u001b[0m",
      "\u001b[1;31mKeyError\u001b[0m                                  Traceback (most recent call last)",
      "\u001b[1;32m<ipython-input-23-f5babb4877cb>\u001b[0m in \u001b[0;36m<module>\u001b[1;34m()\u001b[0m\n\u001b[0;32m      1\u001b[0m \u001b[1;31m#modelList=df['Model'].unique()\u001b[0m\u001b[1;33m\u001b[0m\u001b[1;33m\u001b[0m\u001b[0m\n\u001b[0;32m      2\u001b[0m \u001b[1;31m#stateList=df['Match Segment'].unique()\u001b[0m\u001b[1;33m\u001b[0m\u001b[1;33m\u001b[0m\u001b[0m\n\u001b[1;32m----> 3\u001b[1;33m \u001b[0mclusterList\u001b[0m\u001b[1;33m=\u001b[0m\u001b[0mdf\u001b[0m\u001b[1;33m[\u001b[0m\u001b[1;34m'Cluster'\u001b[0m\u001b[1;33m]\u001b[0m\u001b[1;33m.\u001b[0m\u001b[0munique\u001b[0m\u001b[1;33m(\u001b[0m\u001b[1;33m)\u001b[0m\u001b[1;33m\u001b[0m\u001b[0m\n\u001b[0m\u001b[0;32m      4\u001b[0m \u001b[1;31m#print(stateList)\u001b[0m\u001b[1;33m\u001b[0m\u001b[1;33m\u001b[0m\u001b[0m\n",
      "\u001b[1;32m/usr/local/lib/python2.7/dist-packages/pandas/core/frame.pyc\u001b[0m in \u001b[0;36m__getitem__\u001b[1;34m(self, key)\u001b[0m\n\u001b[0;32m   1995\u001b[0m             \u001b[1;32mreturn\u001b[0m \u001b[0mself\u001b[0m\u001b[1;33m.\u001b[0m\u001b[0m_getitem_multilevel\u001b[0m\u001b[1;33m(\u001b[0m\u001b[0mkey\u001b[0m\u001b[1;33m)\u001b[0m\u001b[1;33m\u001b[0m\u001b[0m\n\u001b[0;32m   1996\u001b[0m         \u001b[1;32melse\u001b[0m\u001b[1;33m:\u001b[0m\u001b[1;33m\u001b[0m\u001b[0m\n\u001b[1;32m-> 1997\u001b[1;33m             \u001b[1;32mreturn\u001b[0m \u001b[0mself\u001b[0m\u001b[1;33m.\u001b[0m\u001b[0m_getitem_column\u001b[0m\u001b[1;33m(\u001b[0m\u001b[0mkey\u001b[0m\u001b[1;33m)\u001b[0m\u001b[1;33m\u001b[0m\u001b[0m\n\u001b[0m\u001b[0;32m   1998\u001b[0m \u001b[1;33m\u001b[0m\u001b[0m\n\u001b[0;32m   1999\u001b[0m     \u001b[1;32mdef\u001b[0m \u001b[0m_getitem_column\u001b[0m\u001b[1;33m(\u001b[0m\u001b[0mself\u001b[0m\u001b[1;33m,\u001b[0m \u001b[0mkey\u001b[0m\u001b[1;33m)\u001b[0m\u001b[1;33m:\u001b[0m\u001b[1;33m\u001b[0m\u001b[0m\n",
      "\u001b[1;32m/usr/local/lib/python2.7/dist-packages/pandas/core/frame.pyc\u001b[0m in \u001b[0;36m_getitem_column\u001b[1;34m(self, key)\u001b[0m\n\u001b[0;32m   2002\u001b[0m         \u001b[1;31m# get column\u001b[0m\u001b[1;33m\u001b[0m\u001b[1;33m\u001b[0m\u001b[0m\n\u001b[0;32m   2003\u001b[0m         \u001b[1;32mif\u001b[0m \u001b[0mself\u001b[0m\u001b[1;33m.\u001b[0m\u001b[0mcolumns\u001b[0m\u001b[1;33m.\u001b[0m\u001b[0mis_unique\u001b[0m\u001b[1;33m:\u001b[0m\u001b[1;33m\u001b[0m\u001b[0m\n\u001b[1;32m-> 2004\u001b[1;33m             \u001b[1;32mreturn\u001b[0m \u001b[0mself\u001b[0m\u001b[1;33m.\u001b[0m\u001b[0m_get_item_cache\u001b[0m\u001b[1;33m(\u001b[0m\u001b[0mkey\u001b[0m\u001b[1;33m)\u001b[0m\u001b[1;33m\u001b[0m\u001b[0m\n\u001b[0m\u001b[0;32m   2005\u001b[0m \u001b[1;33m\u001b[0m\u001b[0m\n\u001b[0;32m   2006\u001b[0m         \u001b[1;31m# duplicate columns & possible reduce dimensionality\u001b[0m\u001b[1;33m\u001b[0m\u001b[1;33m\u001b[0m\u001b[0m\n",
      "\u001b[1;32m/usr/local/lib/python2.7/dist-packages/pandas/core/generic.pyc\u001b[0m in \u001b[0;36m_get_item_cache\u001b[1;34m(self, item)\u001b[0m\n\u001b[0;32m   1348\u001b[0m         \u001b[0mres\u001b[0m \u001b[1;33m=\u001b[0m \u001b[0mcache\u001b[0m\u001b[1;33m.\u001b[0m\u001b[0mget\u001b[0m\u001b[1;33m(\u001b[0m\u001b[0mitem\u001b[0m\u001b[1;33m)\u001b[0m\u001b[1;33m\u001b[0m\u001b[0m\n\u001b[0;32m   1349\u001b[0m         \u001b[1;32mif\u001b[0m \u001b[0mres\u001b[0m \u001b[1;32mis\u001b[0m \u001b[0mNone\u001b[0m\u001b[1;33m:\u001b[0m\u001b[1;33m\u001b[0m\u001b[0m\n\u001b[1;32m-> 1350\u001b[1;33m             \u001b[0mvalues\u001b[0m \u001b[1;33m=\u001b[0m \u001b[0mself\u001b[0m\u001b[1;33m.\u001b[0m\u001b[0m_data\u001b[0m\u001b[1;33m.\u001b[0m\u001b[0mget\u001b[0m\u001b[1;33m(\u001b[0m\u001b[0mitem\u001b[0m\u001b[1;33m)\u001b[0m\u001b[1;33m\u001b[0m\u001b[0m\n\u001b[0m\u001b[0;32m   1351\u001b[0m             \u001b[0mres\u001b[0m \u001b[1;33m=\u001b[0m \u001b[0mself\u001b[0m\u001b[1;33m.\u001b[0m\u001b[0m_box_item_values\u001b[0m\u001b[1;33m(\u001b[0m\u001b[0mitem\u001b[0m\u001b[1;33m,\u001b[0m \u001b[0mvalues\u001b[0m\u001b[1;33m)\u001b[0m\u001b[1;33m\u001b[0m\u001b[0m\n\u001b[0;32m   1352\u001b[0m             \u001b[0mcache\u001b[0m\u001b[1;33m[\u001b[0m\u001b[0mitem\u001b[0m\u001b[1;33m]\u001b[0m \u001b[1;33m=\u001b[0m \u001b[0mres\u001b[0m\u001b[1;33m\u001b[0m\u001b[0m\n",
      "\u001b[1;32m/usr/local/lib/python2.7/dist-packages/pandas/core/internals.pyc\u001b[0m in \u001b[0;36mget\u001b[1;34m(self, item, fastpath)\u001b[0m\n\u001b[0;32m   3288\u001b[0m \u001b[1;33m\u001b[0m\u001b[0m\n\u001b[0;32m   3289\u001b[0m             \u001b[1;32mif\u001b[0m \u001b[1;32mnot\u001b[0m \u001b[0misnull\u001b[0m\u001b[1;33m(\u001b[0m\u001b[0mitem\u001b[0m\u001b[1;33m)\u001b[0m\u001b[1;33m:\u001b[0m\u001b[1;33m\u001b[0m\u001b[0m\n\u001b[1;32m-> 3290\u001b[1;33m                 \u001b[0mloc\u001b[0m \u001b[1;33m=\u001b[0m \u001b[0mself\u001b[0m\u001b[1;33m.\u001b[0m\u001b[0mitems\u001b[0m\u001b[1;33m.\u001b[0m\u001b[0mget_loc\u001b[0m\u001b[1;33m(\u001b[0m\u001b[0mitem\u001b[0m\u001b[1;33m)\u001b[0m\u001b[1;33m\u001b[0m\u001b[0m\n\u001b[0m\u001b[0;32m   3291\u001b[0m             \u001b[1;32melse\u001b[0m\u001b[1;33m:\u001b[0m\u001b[1;33m\u001b[0m\u001b[0m\n\u001b[0;32m   3292\u001b[0m                 \u001b[0mindexer\u001b[0m \u001b[1;33m=\u001b[0m \u001b[0mnp\u001b[0m\u001b[1;33m.\u001b[0m\u001b[0marange\u001b[0m\u001b[1;33m(\u001b[0m\u001b[0mlen\u001b[0m\u001b[1;33m(\u001b[0m\u001b[0mself\u001b[0m\u001b[1;33m.\u001b[0m\u001b[0mitems\u001b[0m\u001b[1;33m)\u001b[0m\u001b[1;33m)\u001b[0m\u001b[1;33m[\u001b[0m\u001b[0misnull\u001b[0m\u001b[1;33m(\u001b[0m\u001b[0mself\u001b[0m\u001b[1;33m.\u001b[0m\u001b[0mitems\u001b[0m\u001b[1;33m)\u001b[0m\u001b[1;33m]\u001b[0m\u001b[1;33m\u001b[0m\u001b[0m\n",
      "\u001b[1;32m/usr/local/lib/python2.7/dist-packages/pandas/indexes/base.pyc\u001b[0m in \u001b[0;36mget_loc\u001b[1;34m(self, key, method, tolerance)\u001b[0m\n\u001b[0;32m   1945\u001b[0m                 \u001b[1;32mreturn\u001b[0m \u001b[0mself\u001b[0m\u001b[1;33m.\u001b[0m\u001b[0m_engine\u001b[0m\u001b[1;33m.\u001b[0m\u001b[0mget_loc\u001b[0m\u001b[1;33m(\u001b[0m\u001b[0mkey\u001b[0m\u001b[1;33m)\u001b[0m\u001b[1;33m\u001b[0m\u001b[0m\n\u001b[0;32m   1946\u001b[0m             \u001b[1;32mexcept\u001b[0m \u001b[0mKeyError\u001b[0m\u001b[1;33m:\u001b[0m\u001b[1;33m\u001b[0m\u001b[0m\n\u001b[1;32m-> 1947\u001b[1;33m                 \u001b[1;32mreturn\u001b[0m \u001b[0mself\u001b[0m\u001b[1;33m.\u001b[0m\u001b[0m_engine\u001b[0m\u001b[1;33m.\u001b[0m\u001b[0mget_loc\u001b[0m\u001b[1;33m(\u001b[0m\u001b[0mself\u001b[0m\u001b[1;33m.\u001b[0m\u001b[0m_maybe_cast_indexer\u001b[0m\u001b[1;33m(\u001b[0m\u001b[0mkey\u001b[0m\u001b[1;33m)\u001b[0m\u001b[1;33m)\u001b[0m\u001b[1;33m\u001b[0m\u001b[0m\n\u001b[0m\u001b[0;32m   1948\u001b[0m \u001b[1;33m\u001b[0m\u001b[0m\n\u001b[0;32m   1949\u001b[0m         \u001b[0mindexer\u001b[0m \u001b[1;33m=\u001b[0m \u001b[0mself\u001b[0m\u001b[1;33m.\u001b[0m\u001b[0mget_indexer\u001b[0m\u001b[1;33m(\u001b[0m\u001b[1;33m[\u001b[0m\u001b[0mkey\u001b[0m\u001b[1;33m]\u001b[0m\u001b[1;33m,\u001b[0m \u001b[0mmethod\u001b[0m\u001b[1;33m=\u001b[0m\u001b[0mmethod\u001b[0m\u001b[1;33m,\u001b[0m \u001b[0mtolerance\u001b[0m\u001b[1;33m=\u001b[0m\u001b[0mtolerance\u001b[0m\u001b[1;33m)\u001b[0m\u001b[1;33m\u001b[0m\u001b[0m\n",
      "\u001b[1;32mpandas/index.pyx\u001b[0m in \u001b[0;36mpandas.index.IndexEngine.get_loc (pandas/index.c:4154)\u001b[1;34m()\u001b[0m\n",
      "\u001b[1;32mpandas/index.pyx\u001b[0m in \u001b[0;36mpandas.index.IndexEngine.get_loc (pandas/index.c:4018)\u001b[1;34m()\u001b[0m\n",
      "\u001b[1;32mpandas/hashtable.pyx\u001b[0m in \u001b[0;36mpandas.hashtable.PyObjectHashTable.get_item (pandas/hashtable.c:12368)\u001b[1;34m()\u001b[0m\n",
      "\u001b[1;32mpandas/hashtable.pyx\u001b[0m in \u001b[0;36mpandas.hashtable.PyObjectHashTable.get_item (pandas/hashtable.c:12322)\u001b[1;34m()\u001b[0m\n",
      "\u001b[1;31mKeyError\u001b[0m: 'Cluster'"
     ]
    }
   ],
   "source": [
    "#modelList=df['Model'].unique()\n",
    "#stateList=df['Match Segment'].unique()\n",
    "clusterList=df['Cluster'].unique()\n",
    "#print(stateList)"
   ]
  },
  {
   "cell_type": "code",
   "execution_count": 24,
   "metadata": {
    "collapsed": false,
    "scrolled": true
   },
   "outputs": [],
   "source": [
    "classifier = LDA(solver='lsqr', shrinkage='auto')\n",
    "frames=[]\n",
    "keys=[]\n",
    "X=df.values[:,xcol:]\n",
    "y=df.values[:,ycol]\n",
    "y = np.array(y).astype('int')\n",
    "classifier.fit(X,y)\n",
    "frames.append(pd.DataFrame(classifier.coef_))\n",
    "keys.append('all')\n",
    "\n",
    "#data split by cluster\n",
    "#for cluster in clusterList:\n",
    "#    train_data = df.loc[df['Cluster']==cluster]\n",
    "#    X=train_data.values[:,xcol:]\n",
    "#    y=train_data.values[:,ycol]\n",
    "#    y = np.array(y).astype('int')\n",
    "    #Xtrain,Xtest,ytrain,ytest=train_test_split(X,y,stratify=y)\n",
    "#    classifier.fit(X,y)\n",
    "#    print(\"{} model has accuracy {}\".format(cluster,classifier.score(X,y)))\n",
    "#    frames.append(pd.DataFrame(classifier.coef_))\n",
    "#    keys.append(cluster)\n",
    "    \n",
    "#data split by model\n",
    "#for model in modelList:\n",
    "#    train_data = df.loc[df['Model']==model]\n",
    "#    X=train_data.values[:,4:]\n",
    "#    y=train_data.values[:,3]\n",
    "#    y = np.array(y).astype(int)\n",
    "#    #train,Xtest,ytrain,ytest=train_test_split(X,y,stratify=y)\n",
    "#    classifier.fit(X,y)\n",
    "#    print(\"{} model has accuracy {}\".format(model,classifier.score(X,y)))\n",
    "#    frames.append(pd.DataFrame(classifier.coef_))\n",
    "#    keys.append(model)\n",
    "    \n",
    "#for state in stateList:\n",
    "#    train_data = df.loc[df['Match Segment']==state]\n",
    "#    X=train_data.values[:,5:]\n",
    "#    y=train_data.values[:,4]\n",
    "#    y = np.array(y)\n",
    "#    #Xtrain,Xtest,ytrain,ytest=train_test_split(X,y,stratify=y)\n",
    "#    classifier.fit(X,y)\n",
    "#    print(\"{} state has accuracy {}\".format(state,classifier.score(X,y)))\n",
    "#    frames.append(pd.DataFrame(classifier.coef_))\n",
    "#    keys.append(state)\n",
    "\n",
    "pd.concat(frames,keys=keys).to_csv(\"results/Discriminant Analysis results.csv\")"
   ]
  },
  {
   "cell_type": "code",
   "execution_count": 25,
   "metadata": {
    "collapsed": false
   },
   "outputs": [
    {
     "name": "stdout",
     "output_type": "stream",
     "text": [
      "[0 1 2 3 4 5]\n"
     ]
    }
   ],
   "source": [
    "print(classifier.classes_)"
   ]
  },
  {
   "cell_type": "code",
   "execution_count": null,
   "metadata": {
    "collapsed": true
   },
   "outputs": [],
   "source": []
  }
 ],
 "metadata": {
  "kernelspec": {
   "display_name": "Python 2",
   "language": "python",
   "name": "python2"
  },
  "language_info": {
   "codemirror_mode": {
    "name": "ipython",
    "version": 2
   },
   "file_extension": ".py",
   "mimetype": "text/x-python",
   "name": "python",
   "nbconvert_exporter": "python",
   "pygments_lexer": "ipython2",
   "version": "2.7.6"
  }
 },
 "nbformat": 4,
 "nbformat_minor": 0
}
