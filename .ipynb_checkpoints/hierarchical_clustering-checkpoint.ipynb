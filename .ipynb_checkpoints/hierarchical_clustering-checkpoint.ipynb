{
 "cells": [
  {
   "cell_type": "code",
   "execution_count": 1,
   "metadata": {
    "collapsed": false
   },
   "outputs": [
    {
     "name": "stderr",
     "output_type": "stream",
     "text": [
      "/usr/local/lib/python2.7/dist-packages/matplotlib/font_manager.py:273: UserWarning: Matplotlib is building the font cache using fc-list. This may take a moment.\n",
      "  warnings.warn('Matplotlib is building the font cache using fc-list. This may take a moment.')\n"
     ]
    },
    {
     "name": "stdout",
     "output_type": "stream",
     "text": [
      "Populating the interactive namespace from numpy and matplotlib\n"
     ]
    }
   ],
   "source": [
    "from sklearn.cluster import AgglomerativeClustering\n",
    "import pandas as pd\n",
    "from sklearn.metrics import silhouette_samples, silhouette_score\n",
    "%pylab inline\n",
    "import matplotlib.pyplot as plt\n",
    "from sklearn.manifold import TSNE"
   ]
  },
  {
   "cell_type": "code",
   "execution_count": 34,
   "metadata": {
    "collapsed": false
   },
   "outputs": [
    {
     "data": {
      "text/html": [
       "<div>\n",
       "<table border=\"1\" class=\"dataframe\">\n",
       "  <thead>\n",
       "    <tr style=\"text-align: right;\">\n",
       "      <th></th>\n",
       "      <th>Respondent</th>\n",
       "      <th>First New</th>\n",
       "      <th>Type of Sale</th>\n",
       "      <th>Age Group</th>\n",
       "      <th>Trim Level</th>\n",
       "      <th>Previous Model</th>\n",
       "      <th>Drive-City</th>\n",
       "      <th>Drive-Highway</th>\n",
       "      <th>Drive-Rural</th>\n",
       "    </tr>\n",
       "  </thead>\n",
       "  <tbody>\n",
       "    <tr>\n",
       "      <th>count</th>\n",
       "      <td>7.967000e+03</td>\n",
       "      <td>7967.000000</td>\n",
       "      <td>7967.000000</td>\n",
       "      <td>7967.000000</td>\n",
       "      <td>7967.000000</td>\n",
       "      <td>7967.000000</td>\n",
       "      <td>7967.000000</td>\n",
       "      <td>7967.000000</td>\n",
       "      <td>7967.000000</td>\n",
       "    </tr>\n",
       "    <tr>\n",
       "      <th>mean</th>\n",
       "      <td>1.019091e+09</td>\n",
       "      <td>0.138823</td>\n",
       "      <td>0.550772</td>\n",
       "      <td>4.083720</td>\n",
       "      <td>1.243504</td>\n",
       "      <td>0.624953</td>\n",
       "      <td>0.622192</td>\n",
       "      <td>0.417096</td>\n",
       "      <td>0.230451</td>\n",
       "    </tr>\n",
       "    <tr>\n",
       "      <th>std</th>\n",
       "      <td>6.401469e+06</td>\n",
       "      <td>0.345783</td>\n",
       "      <td>0.763794</td>\n",
       "      <td>1.435147</td>\n",
       "      <td>0.713346</td>\n",
       "      <td>0.484165</td>\n",
       "      <td>0.484870</td>\n",
       "      <td>0.493110</td>\n",
       "      <td>0.421148</td>\n",
       "    </tr>\n",
       "    <tr>\n",
       "      <th>min</th>\n",
       "      <td>1.010000e+09</td>\n",
       "      <td>0.000000</td>\n",
       "      <td>0.000000</td>\n",
       "      <td>1.000000</td>\n",
       "      <td>0.000000</td>\n",
       "      <td>0.000000</td>\n",
       "      <td>0.000000</td>\n",
       "      <td>0.000000</td>\n",
       "      <td>0.000000</td>\n",
       "    </tr>\n",
       "    <tr>\n",
       "      <th>25%</th>\n",
       "      <td>1.015048e+09</td>\n",
       "      <td>0.000000</td>\n",
       "      <td>0.000000</td>\n",
       "      <td>3.000000</td>\n",
       "      <td>1.000000</td>\n",
       "      <td>0.000000</td>\n",
       "      <td>0.000000</td>\n",
       "      <td>0.000000</td>\n",
       "      <td>0.000000</td>\n",
       "    </tr>\n",
       "    <tr>\n",
       "      <th>50%</th>\n",
       "      <td>1.020154e+09</td>\n",
       "      <td>0.000000</td>\n",
       "      <td>0.000000</td>\n",
       "      <td>4.000000</td>\n",
       "      <td>1.000000</td>\n",
       "      <td>1.000000</td>\n",
       "      <td>1.000000</td>\n",
       "      <td>0.000000</td>\n",
       "      <td>0.000000</td>\n",
       "    </tr>\n",
       "    <tr>\n",
       "      <th>75%</th>\n",
       "      <td>1.023868e+09</td>\n",
       "      <td>0.000000</td>\n",
       "      <td>1.000000</td>\n",
       "      <td>5.000000</td>\n",
       "      <td>2.000000</td>\n",
       "      <td>1.000000</td>\n",
       "      <td>1.000000</td>\n",
       "      <td>1.000000</td>\n",
       "      <td>0.000000</td>\n",
       "    </tr>\n",
       "    <tr>\n",
       "      <th>max</th>\n",
       "      <td>1.031071e+09</td>\n",
       "      <td>1.000000</td>\n",
       "      <td>2.000000</td>\n",
       "      <td>6.000000</td>\n",
       "      <td>2.000000</td>\n",
       "      <td>1.000000</td>\n",
       "      <td>1.000000</td>\n",
       "      <td>1.000000</td>\n",
       "      <td>1.000000</td>\n",
       "    </tr>\n",
       "  </tbody>\n",
       "</table>\n",
       "</div>"
      ],
      "text/plain": [
       "         Respondent    First New  Type of Sale    Age Group   Trim Level  \\\n",
       "count  7.967000e+03  7967.000000   7967.000000  7967.000000  7967.000000   \n",
       "mean   1.019091e+09     0.138823      0.550772     4.083720     1.243504   \n",
       "std    6.401469e+06     0.345783      0.763794     1.435147     0.713346   \n",
       "min    1.010000e+09     0.000000      0.000000     1.000000     0.000000   \n",
       "25%    1.015048e+09     0.000000      0.000000     3.000000     1.000000   \n",
       "50%    1.020154e+09     0.000000      0.000000     4.000000     1.000000   \n",
       "75%    1.023868e+09     0.000000      1.000000     5.000000     2.000000   \n",
       "max    1.031071e+09     1.000000      2.000000     6.000000     2.000000   \n",
       "\n",
       "       Previous Model   Drive-City  Drive-Highway  Drive-Rural  \n",
       "count     7967.000000  7967.000000    7967.000000  7967.000000  \n",
       "mean         0.624953     0.622192       0.417096     0.230451  \n",
       "std          0.484165     0.484870       0.493110     0.421148  \n",
       "min          0.000000     0.000000       0.000000     0.000000  \n",
       "25%          0.000000     0.000000       0.000000     0.000000  \n",
       "50%          1.000000     1.000000       0.000000     0.000000  \n",
       "75%          1.000000     1.000000       1.000000     0.000000  \n",
       "max          1.000000     1.000000       1.000000     1.000000  "
      ]
     },
     "execution_count": 34,
     "metadata": {},
     "output_type": "execute_result"
    }
   ],
   "source": [
    "df_all=pd.read_csv('Data/Rogue Clustering Data.csv', sep=',')\n",
    "df_all.describe()"
   ]
  },
  {
   "cell_type": "code",
   "execution_count": 35,
   "metadata": {
    "collapsed": false
   },
   "outputs": [],
   "source": [
    "df_all = pd.concat([df_all, pd.get_dummies(df_all['Type of Sale'], prefix='Type of Sale')], axis=1)\n",
    "df_all = df_all.drop(['Type of Sale'],axis=1)\n",
    "df_all = pd.concat([df_all, pd.get_dummies(df_all['Marital Status'], prefix='Marital Status')], axis=1)\n",
    "df_all = df_all.drop(['Marital Status'],axis=1)\n",
    "df_all = pd.concat([df_all, pd.get_dummies(df_all['Education'], prefix='Education')], axis=1)\n",
    "df_all = df_all.drop(['Education'],axis=1)\n",
    "df_all = pd.concat([df_all, pd.get_dummies(df_all['Race'], prefix='Race')], axis=1)\n",
    "df_all = df_all.drop(['Race'],axis=1)\n",
    "df_all = pd.concat([df_all, pd.get_dummies(df_all['Age Group'], prefix='Age Group')], axis=1)\n",
    "df_all = df_all.drop(['Age Group'],axis=1)\n",
    "df_all = pd.concat([df_all, pd.get_dummies(df_all['Ownership'], prefix='Ownership')], axis=1)\n",
    "df_all = df_all.drop(['Ownership'],axis=1)\n",
    "df_all = pd.concat([df_all, pd.get_dummies(df_all['Trim Level'], prefix='Trim Level')], axis=1)\n",
    "df_all = df_all.drop(['Trim Level'],axis=1)\n",
    "df_all = pd.concat([df_all, pd.get_dummies(df_all['Miles / Day'], prefix='Miles / Day')], axis=1)\n",
    "df_all = df_all.drop(['Miles / Day'],axis=1)\n",
    "df_all = pd.concat([df_all, pd.get_dummies(df_all['Income Group'], prefix='Income Group')], axis=1)\n",
    "df_all = df_all.drop(['Income Group'],axis=1)"
   ]
  },
  {
   "cell_type": "code",
   "execution_count": 36,
   "metadata": {
    "collapsed": false
   },
   "outputs": [
    {
     "data": {
      "text/plain": [
       "Index([u'Respondent', u'First New', u'Previous Model', u'Drive-City',\n",
       "       u'Drive-Highway', u'Drive-Rural', u'Type of Sale_0', u'Type of Sale_1',\n",
       "       u'Type of Sale_2', u'Marital Status_Divorced/Widowed/Separated',\n",
       "       u'Marital Status_Living With Sig Oth/Dom Prtnr',\n",
       "       u'Marital Status_Married', u'Marital Status_Single/Not Married',\n",
       "       u'Education_College graduate',\n",
       "       u'Education_High school graduate or less', u'Education_Other',\n",
       "       u'Education_Post graduate study/degree', u'Education_Some college',\n",
       "       u'Race_African-American/Black', u'Race_Asian', u'Race_Hispanic',\n",
       "       u'Race_Native American', u'Race_Other', u'Race_White', u'Age Group_1',\n",
       "       u'Age Group_2', u'Age Group_3', u'Age Group_4', u'Age Group_5',\n",
       "       u'Age Group_6', u'Ownership_Long', u'Ownership_Medium',\n",
       "       u'Ownership_Short', u'Trim Level_0', u'Trim Level_1', u'Trim Level_2',\n",
       "       u'Miles / Day_High', u'Miles / Day_Low', u'Miles / Day_Medium',\n",
       "       u'Miles / Day_Very High', u'Income Group_$100,001-$150,000',\n",
       "       u'Income Group_$150,001-$200,000', u'Income Group_$200,001-$250,000',\n",
       "       u'Income Group_$250,001-$299,999', u'Income Group_$30,000-$50,000',\n",
       "       u'Income Group_$300,000+', u'Income Group_$50,001-$75,000',\n",
       "       u'Income Group_$75,001-$100,000', u'Income Group_Under $30,000'],\n",
       "      dtype='object')"
      ]
     },
     "execution_count": 36,
     "metadata": {},
     "output_type": "execute_result"
    }
   ],
   "source": [
    "df_all.columns"
   ]
  },
  {
   "cell_type": "code",
   "execution_count": 37,
   "metadata": {
    "collapsed": false
   },
   "outputs": [
    {
     "name": "stdout",
     "output_type": "stream",
     "text": [
      "('For n_clusters =', 2, 'the average silhouette_score is :', 0.039315690920258342)\n",
      "('For n_clusters =', 3, 'the average silhouette_score is :', 0.031544227595332389)\n",
      "('For n_clusters =', 4, 'the average silhouette_score is :', 0.018680718929725133)\n",
      "('For n_clusters =', 5, 'the average silhouette_score is :', 0.011200911213830154)\n",
      "('For n_clusters =', 6, 'the average silhouette_score is :', 0.0016625763401514049)\n",
      "('For n_clusters =', 7, 'the average silhouette_score is :', -0.0030518301693990527)\n",
      "('For n_clusters =', 8, 'the average silhouette_score is :', -0.0059441566481495635)\n",
      "('For n_clusters =', 9, 'the average silhouette_score is :', -0.0040916162008566362)\n",
      "('For n_clusters =', 10, 'the average silhouette_score is :', -0.0010499070184252976)\n",
      "('For n_clusters =', 11, 'the average silhouette_score is :', 0.00042726583849490141)\n",
      "('For n_clusters =', 12, 'the average silhouette_score is :', 0.0024811282764923819)\n"
     ]
    }
   ],
   "source": [
    "X=df_all.values[:,1:]\n",
    "range_n_clusters = [2,3,4,5,6,7,8,9,10,11,12]\n",
    "for n_clusters in range_n_clusters:\n",
    "    clusterer = AgglomerativeClustering(n_clusters=n_clusters)\n",
    "    cluster_labels = clusterer.fit_predict(X)\n",
    "    silhouette_avg = silhouette_score(X, cluster_labels)\n",
    "    print(\"For n_clusters =\", n_clusters,\"the average silhouette_score is :\", silhouette_avg)"
   ]
  },
  {
   "cell_type": "code",
   "execution_count": 40,
   "metadata": {
    "collapsed": false
   },
   "outputs": [
    {
     "name": "stdout",
     "output_type": "stream",
     "text": [
      "('For n_clusters = 10 the average silhouette_score is :', -0.0040916162008566362)\n"
     ]
    }
   ],
   "source": [
    "X=df_all.values[:,1:]\n",
    "clusterer = AgglomerativeClustering(n_clusters=9)\n",
    "cluster_labels=clusterer.fit_predict(X)\n",
    "silhouette_avg = silhouette_score(X, cluster_labels)\n",
    "print(\"For n_clusters = 10 the average silhouette_score is :\", silhouette_avg)"
   ]
  },
  {
   "cell_type": "code",
   "execution_count": 41,
   "metadata": {
    "collapsed": true
   },
   "outputs": [],
   "source": [
    "pd.DataFrame(cluster_labels).to_csv(\"results/Rogue_cluster_labels.csv\")\n",
    "df_all.to_csv(\"results/Rogue_transformed_data.csv\")"
   ]
  },
  {
   "cell_type": "code",
   "execution_count": 38,
   "metadata": {
    "collapsed": true
   },
   "outputs": [],
   "source": [
    "tsnemodel = TSNE(n_components=2)\n",
    "tsnedata=tsnemodel.fit_transform(X)"
   ]
  },
  {
   "cell_type": "code",
   "execution_count": 39,
   "metadata": {
    "collapsed": false
   },
   "outputs": [
    {
     "data": {
      "text/plain": [
       "<matplotlib.collections.PathCollection at 0x7f52468107d0>"
      ]
     },
     "execution_count": 39,
     "metadata": {},
     "output_type": "execute_result"
    },
    {
     "data": {
      "image/png": "[encoded data removed]",
      "text/plain": [
       "<matplotlib.figure.Figure at 0x7f52468ee150>"
      ]
     },
     "metadata": {},
     "output_type": "display_data"
    }
   ],
   "source": [
    "plt.scatter(tsnedata[:,0],tsnedata[:,1])"
   ]
  },
  {
   "cell_type": "code",
   "execution_count": null,
   "metadata": {
    "collapsed": true
   },
   "outputs": [],
   "source": []
  }
 ],
 "metadata": {
  "kernelspec": {
   "display_name": "Python 2",
   "language": "python",
   "name": "python2"
  },
  "language_info": {
   "codemirror_mode": {
    "name": "ipython",
    "version": 2
   },
   "file_extension": ".py",
   "mimetype": "text/x-python",
   "name": "python",
   "nbconvert_exporter": "python",
   "pygments_lexer": "ipython2",
   "version": "2.7.6"
  }
 },
 "nbformat": 4,
 "nbformat_minor": 0
}
