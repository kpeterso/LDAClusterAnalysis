{
 "cells": [
  {
   "cell_type": "code",
   "execution_count": 1,
   "metadata": {
    "collapsed": true
   },
   "outputs": [],
   "source": [
    "from sklearn.discriminant_analysis import LinearDiscriminantAnalysis as LDA\n",
    "import pandas as pd\n",
    "import numpy as np\n",
    "from sklearn.cross_validation import train_test_split"
   ]
  },
  {
   "cell_type": "code",
   "execution_count": 15,
   "metadata": {
    "collapsed": false,
    "scrolled": true
   },
   "outputs": [],
   "source": [
    "df=pd.read_csv('Data/SV 2016 correlation data.csv', sep=',')"
   ]
  },
  {
   "cell_type": "code",
   "execution_count": 19,
   "metadata": {
    "collapsed": false
   },
   "outputs": [
    {
     "data": {
      "text/html": [
       "<div>\n",
       "<table border=\"1\" class=\"dataframe\">\n",
       "  <thead>\n",
       "    <tr style=\"text-align: right;\">\n",
       "      <th></th>\n",
       "      <th>ID</th>\n",
       "      <th>New Model Purchased (Alpha Order)</th>\n",
       "      <th>New Model Purchased - Make/Model/Series (Alpha Order)</th>\n",
       "      <th>New Model Purchased - Brand</th>\n",
       "      <th>New Model Segment</th>\n",
       "      <th>Segmentation 1</th>\n",
       "      <th>Match Segment</th>\n",
       "      <th>Category</th>\n",
       "      <th>Age Bracket</th>\n",
       "      <th>Total # Children In Household</th>\n",
       "      <th>...</th>\n",
       "      <th>Connectivity (WiFi, Bluetooth, etc.)</th>\n",
       "      <th>Interactive Information System (OnStar, mbrace, iDrive, etc.)</th>\n",
       "      <th>Driving Distance on Full Tank/Charge</th>\n",
       "      <th>Family needs changed</th>\n",
       "      <th>Previous vehicle was damaged or had to be replaced</th>\n",
       "      <th>Wanted a vehicle with a new image</th>\n",
       "      <th>Impulse - I just wanted a new vehicle</th>\n",
       "      <th>New model caught my attention</th>\n",
       "      <th>Previous vehicle too old/needed repairs</th>\n",
       "      <th>Changed/Moved to a new location</th>\n",
       "    </tr>\n",
       "  </thead>\n",
       "  <tbody>\n",
       "    <tr>\n",
       "      <th>0</th>\n",
       "      <td>17956</td>\n",
       "      <td>Nissan Altima Sdn</td>\n",
       "      <td>Nissan Altima 2.5 S Sedan (2015 MY) - 143421</td>\n",
       "      <td>Nissan</td>\n",
       "      <td>Mid-Size Car</td>\n",
       "      <td>Standard Mid-Size Car</td>\n",
       "      <td>Sedan</td>\n",
       "      <td>4</td>\n",
       "      <td>35</td>\n",
       "      <td>5</td>\n",
       "      <td>...</td>\n",
       "      <td>5.0</td>\n",
       "      <td>5.0</td>\n",
       "      <td>5.0</td>\n",
       "      <td>0</td>\n",
       "      <td>0</td>\n",
       "      <td>0</td>\n",
       "      <td>0</td>\n",
       "      <td>0</td>\n",
       "      <td>0</td>\n",
       "      <td>0</td>\n",
       "    </tr>\n",
       "    <tr>\n",
       "      <th>1</th>\n",
       "      <td>67109</td>\n",
       "      <td>Nissan Pathfinder</td>\n",
       "      <td>Nissan Pathfinder S FWD (2015 MY) - 293241</td>\n",
       "      <td>Nissan</td>\n",
       "      <td>Mid-Size Traditional Utility</td>\n",
       "      <td>Full-Size SUV</td>\n",
       "      <td>SUV</td>\n",
       "      <td>1</td>\n",
       "      <td>41</td>\n",
       "      <td>1</td>\n",
       "      <td>...</td>\n",
       "      <td>2.0</td>\n",
       "      <td>1.0</td>\n",
       "      <td>4.0</td>\n",
       "      <td>0</td>\n",
       "      <td>1</td>\n",
       "      <td>1</td>\n",
       "      <td>0</td>\n",
       "      <td>0</td>\n",
       "      <td>0</td>\n",
       "      <td>0</td>\n",
       "    </tr>\n",
       "    <tr>\n",
       "      <th>2</th>\n",
       "      <td>10513</td>\n",
       "      <td>Honda Accord Sdn</td>\n",
       "      <td>Honda Accord EX/EX-L Sedan (4-Cyl) (2016 MY) -...</td>\n",
       "      <td>Honda</td>\n",
       "      <td>Mid-Size Car</td>\n",
       "      <td>Standard Mid-Size Car</td>\n",
       "      <td>Sedan</td>\n",
       "      <td>0</td>\n",
       "      <td>60</td>\n",
       "      <td>0</td>\n",
       "      <td>...</td>\n",
       "      <td>5.0</td>\n",
       "      <td>3.0</td>\n",
       "      <td>5.0</td>\n",
       "      <td>0</td>\n",
       "      <td>0</td>\n",
       "      <td>0</td>\n",
       "      <td>0</td>\n",
       "      <td>0</td>\n",
       "      <td>0</td>\n",
       "      <td>0</td>\n",
       "    </tr>\n",
       "    <tr>\n",
       "      <th>3</th>\n",
       "      <td>17449</td>\n",
       "      <td>Nissan Altima Sdn</td>\n",
       "      <td>Nissan Altima 2.5 S Sedan (2015 MY) - 143421</td>\n",
       "      <td>Nissan</td>\n",
       "      <td>Mid-Size Car</td>\n",
       "      <td>Standard Mid-Size Car</td>\n",
       "      <td>Sedan</td>\n",
       "      <td>2</td>\n",
       "      <td>30</td>\n",
       "      <td>2</td>\n",
       "      <td>...</td>\n",
       "      <td>5.0</td>\n",
       "      <td>5.0</td>\n",
       "      <td>5.0</td>\n",
       "      <td>1</td>\n",
       "      <td>0</td>\n",
       "      <td>0</td>\n",
       "      <td>0</td>\n",
       "      <td>0</td>\n",
       "      <td>0</td>\n",
       "      <td>0</td>\n",
       "    </tr>\n",
       "    <tr>\n",
       "      <th>4</th>\n",
       "      <td>44442</td>\n",
       "      <td>Audi Q5</td>\n",
       "      <td>Audi Q5 2.0T Quattro (2016 MY) - 207210</td>\n",
       "      <td>Audi</td>\n",
       "      <td>Near Luxury Utility</td>\n",
       "      <td>Mid-size Crossover</td>\n",
       "      <td>SUV</td>\n",
       "      <td>5</td>\n",
       "      <td>38</td>\n",
       "      <td>2</td>\n",
       "      <td>...</td>\n",
       "      <td>5.0</td>\n",
       "      <td>4.0</td>\n",
       "      <td>5.0</td>\n",
       "      <td>0</td>\n",
       "      <td>0</td>\n",
       "      <td>0</td>\n",
       "      <td>0</td>\n",
       "      <td>0</td>\n",
       "      <td>0</td>\n",
       "      <td>0</td>\n",
       "    </tr>\n",
       "  </tbody>\n",
       "</table>\n",
       "<p>5 rows × 140 columns</p>\n",
       "</div>"
      ],
      "text/plain": [
       "      ID New Model Purchased (Alpha Order)  \\\n",
       "0  17956                 Nissan Altima Sdn   \n",
       "1  67109                 Nissan Pathfinder   \n",
       "2  10513                  Honda Accord Sdn   \n",
       "3  17449                 Nissan Altima Sdn   \n",
       "4  44442                           Audi Q5   \n",
       "\n",
       "  New Model Purchased - Make/Model/Series (Alpha Order)  \\\n",
       "0       Nissan Altima 2.5 S Sedan (2015 MY) - 143421      \n",
       "1         Nissan Pathfinder S FWD (2015 MY) - 293241      \n",
       "2  Honda Accord EX/EX-L Sedan (4-Cyl) (2016 MY) -...      \n",
       "3       Nissan Altima 2.5 S Sedan (2015 MY) - 143421      \n",
       "4            Audi Q5 2.0T Quattro (2016 MY) - 207210      \n",
       "\n",
       "  New Model Purchased - Brand             New Model Segment  \\\n",
       "0                      Nissan                  Mid-Size Car   \n",
       "1                      Nissan  Mid-Size Traditional Utility   \n",
       "2                       Honda                  Mid-Size Car   \n",
       "3                      Nissan                  Mid-Size Car   \n",
       "4                        Audi           Near Luxury Utility   \n",
       "\n",
       "          Segmentation 1 Match Segment  Category  Age Bracket  \\\n",
       "0  Standard Mid-Size Car         Sedan         4           35   \n",
       "1          Full-Size SUV           SUV         1           41   \n",
       "2  Standard Mid-Size Car         Sedan         0           60   \n",
       "3  Standard Mid-Size Car         Sedan         2           30   \n",
       "4     Mid-size Crossover           SUV         5           38   \n",
       "\n",
       "   Total # Children In Household               ...                 \\\n",
       "0                              5               ...                  \n",
       "1                              1               ...                  \n",
       "2                              0               ...                  \n",
       "3                              2               ...                  \n",
       "4                              2               ...                  \n",
       "\n",
       "   Connectivity (WiFi, Bluetooth, etc.)  \\\n",
       "0                                   5.0   \n",
       "1                                   2.0   \n",
       "2                                   5.0   \n",
       "3                                   5.0   \n",
       "4                                   5.0   \n",
       "\n",
       "   Interactive Information System (OnStar, mbrace, iDrive, etc.)  \\\n",
       "0                                                5.0               \n",
       "1                                                1.0               \n",
       "2                                                3.0               \n",
       "3                                                5.0               \n",
       "4                                                4.0               \n",
       "\n",
       "   Driving Distance on Full Tank/Charge  Family needs changed  \\\n",
       "0                                   5.0                     0   \n",
       "1                                   4.0                     0   \n",
       "2                                   5.0                     0   \n",
       "3                                   5.0                     1   \n",
       "4                                   5.0                     0   \n",
       "\n",
       "   Previous vehicle was damaged or had to be replaced  \\\n",
       "0                                                  0    \n",
       "1                                                  1    \n",
       "2                                                  0    \n",
       "3                                                  0    \n",
       "4                                                  0    \n",
       "\n",
       "   Wanted a vehicle with a new image  Impulse - I just wanted a new vehicle  \\\n",
       "0                                  0                                      0   \n",
       "1                                  1                                      0   \n",
       "2                                  0                                      0   \n",
       "3                                  0                                      0   \n",
       "4                                  0                                      0   \n",
       "\n",
       "   New model caught my attention  Previous vehicle too old/needed repairs  \\\n",
       "0                              0                                        0   \n",
       "1                              0                                        0   \n",
       "2                              0                                        0   \n",
       "3                              0                                        0   \n",
       "4                              0                                        0   \n",
       "\n",
       "   Changed/Moved to a new location  \n",
       "0                                0  \n",
       "1                                0  \n",
       "2                                0  \n",
       "3                                0  \n",
       "4                                0  \n",
       "\n",
       "[5 rows x 140 columns]"
      ]
     },
     "execution_count": 19,
     "metadata": {},
     "output_type": "execute_result"
    }
   ],
   "source": [
    "df.fillna(3, inplace=True)\n",
    "df=df.reindex(np.random.permutation(df.index))\n",
    "df=df.reset_index()\n",
    "df=df.drop([\"index\"],axis=1)\n",
    "#df=df.drop([\"Drive Type\"],axis=1)\n",
    "#df=df.drop([\"Consider New Vehicle Your Primary Vehicle ?\"],axis=1)\n",
    "#df=df.drop([\"X226 Driving range on full tank\"],axis=1)\n",
    "#df=df.drop([\"X225 Overall trans operation\"],axis=1)\n",
    "#df=df.drop([\"X213 Exterior paint appearance\"],axis=1)\n",
    "df.head()"
   ]
  },
  {
   "cell_type": "code",
   "execution_count": 20,
   "metadata": {
    "collapsed": false
   },
   "outputs": [],
   "source": [
    "ycol=7\n",
    "xcol=8\n",
    "data=df.values\n",
    "y=data[:,ycol]\n",
    "y = np.array(y).astype('int')\n",
    "X=data[:,xcol:]\n",
    "Xtrain,Xtest,ytrain,ytest=train_test_split(X,y,stratify=y)"
   ]
  },
  {
   "cell_type": "code",
   "execution_count": 21,
   "metadata": {
    "collapsed": false
   },
   "outputs": [
    {
     "data": {
      "text/plain": [
       "LinearDiscriminantAnalysis(n_components=None, priors=None, shrinkage=None,\n",
       "              solver='svd', store_covariance=False, tol=0.0001)"
      ]
     },
     "execution_count": 21,
     "metadata": {},
     "output_type": "execute_result"
    }
   ],
   "source": [
    "clfeig = LDA(solver='eigen', shrinkage='auto')\n",
    "clfsqr = LDA(solver='lsqr', shrinkage='auto')\n",
    "clfsvd = LDA()\n",
    "clfeig.fit(Xtrain, ytrain)\n",
    "clfsqr.fit(Xtrain, ytrain)\n",
    "clfsvd.fit(Xtrain, ytrain)"
   ]
  },
  {
   "cell_type": "code",
   "execution_count": 22,
   "metadata": {
    "collapsed": false
   },
   "outputs": [
    {
     "name": "stdout",
     "output_type": "stream",
     "text": [
      "0.427619893428\n",
      "0.408081705151\n",
      "0.427915926584\n"
     ]
    }
   ],
   "source": [
    "print(clfsqr.score(Xtest,ytest))\n",
    "print(clfeig.score(Xtest,ytest))\n",
    "print(clfsvd.score(Xtest,ytest))"
   ]
  },
  {
   "cell_type": "code",
   "execution_count": 23,
   "metadata": {
    "collapsed": false
   },
   "outputs": [
    {
     "ename": "KeyError",
     "evalue": "'Cluster'",
     "output_type": "error",
     "traceback": [
      "\u001b[1;31m---------------------------------------------------------------------------\u001b[0m",
      "\u001b[1;31mKeyError\u001b[0m                                  Traceback (most recent call last)",
      "\u001b[1;32m<ipython-input-23-f5babb4877cb>\u001b[0m in \u001b[0;36m<module>\u001b[1;34m()\u001b[0m\n\u001b[0;32m      1\u001b[0m \u001b[1;31m#modelList=df['Model'].unique()\u001b[0m\u001b[1;33m\u001b[0m\u001b[1;33m\u001b[0m\u001b[0m\n\u001b[0;32m      2\u001b[0m \u001b[1;31m#stateList=df['Match Segment'].unique()\u001b[0m\u001b[1;33m\u001b[0m\u001b[1;33m\u001b[0m\u001b[0m\n\u001b[1;32m----> 3\u001b[1;33m \u001b[0mclusterList\u001b[0m\u001b[1;33m=\u001b[0m\u001b[0mdf\u001b[0m\u001b[1;33m[\u001b[0m\u001b[1;34m'Cluster'\u001b[0m\u001b[1;33m]\u001b[0m\u001b[1;33m.\u001b[0m\u001b[0munique\u001b[0m\u001b[1;33m(\u001b[0m\u001b[1;33m)\u001b[0m\u001b[1;33m\u001b[0m\u001b[0m\n\u001b[0m\u001b[0;32m      4\u001b[0m \u001b[1;31m#print(stateList)\u001b[0m\u001b[1;33m\u001b[0m\u001b[1;33m\u001b[0m\u001b[0m\n",
      "\u001b[1;32m/usr/local/lib/python2.7/dist-packages/pandas/core/frame.pyc\u001b[0m in \u001b[0;36m__getitem__\u001b[1;34m(self, key)\u001b[0m\n\u001b[0;32m   1995\u001b[0m             \u001b[1;32mreturn\u001b[0m \u001b[0mself\u001b[0m\u001b[1;33m.\u001b[0m\u001b[0m_getitem_multilevel\u001b[0m\u001b[1;33m(\u001b[0m\u001b[0mkey\u001b[0m\u001b[1;33m)\u001b[0m\u001b[1;33m\u001b[0m\u001b[0m\n\u001b[0;32m   1996\u001b[0m         \u001b[1;32melse\u001b[0m\u001b[1;33m:\u001b[0m\u001b[1;33m\u001b[0m\u001b[0m\n\u001b[1;32m-> 1997\u001b[1;33m             \u001b[1;32mreturn\u001b[0m \u001b[0mself\u001b[0m\u001b[1;33m.\u001b[0m\u001b[0m_getitem_column\u001b[0m\u001b[1;33m(\u001b[0m\u001b[0mkey\u001b[0m\u001b[1;33m)\u001b[0m\u001b[1;33m\u001b[0m\u001b[0m\n\u001b[0m\u001b[0;32m   1998\u001b[0m \u001b[1;33m\u001b[0m\u001b[0m\n\u001b[0;32m   1999\u001b[0m     \u001b[1;32mdef\u001b[0m \u001b[0m_getitem_column\u001b[0m\u001b[1;33m(\u001b[0m\u001b[0mself\u001b[0m\u001b[1;33m,\u001b[0m \u001b[0mkey\u001b[0m\u001b[1;33m)\u001b[0m\u001b[1;33m:\u001b[0m\u001b[1;33m\u001b[0m\u001b[0m\n",
      "\u001b[1;32m/usr/local/lib/python2.7/dist-packages/pandas/core/frame.pyc\u001b[0m in \u001b[0;36m_getitem_column\u001b[1;34m(self, key)\u001b[0m\n\u001b[0;32m   2002\u001b[0m         \u001b[1;31m# get column\u001b[0m\u001b[1;33m\u001b[0m\u001b[1;33m\u001b[0m\u001b[0m\n\u001b[0;32m   2003\u001b[0m         \u001b[1;32mif\u001b[0m \u001b[0mself\u001b[0m\u001b[1;33m.\u001b[0m\u001b[0mcolumns\u001b[0m\u001b[1;33m.\u001b[0m\u001b[0mis_unique\u001b[0m\u001b[1;33m:\u001b[0m\u001b[1;33m\u001b[0m\u001b[0m\n\u001b[1;32m-> 2004\u001b[1;33m             \u001b[1;32mreturn\u001b[0m \u001b[0mself\u001b[0m\u001b[1;33m.\u001b[0m\u001b[0m_get_item_cache\u001b[0m\u001b[1;33m(\u001b[0m\u001b[0mkey\u001b[0m\u001b[1;33m)\u001b[0m\u001b[1;33m\u001b[0m\u001b[0m\n\u001b[0m\u001b[0;32m   2005\u001b[0m \u001b[1;33m\u001b[0m\u001b[0m\n\u001b[0;32m   2006\u001b[0m         \u001b[1;31m# duplicate columns & possible reduce dimensionality\u001b[0m\u001b[1;33m\u001b[0m\u001b[1;33m\u001b[0m\u001b[0m\n",
      "\u001b[1;32m/usr/local/lib/python2.7/dist-packages/pandas/core/generic.pyc\u001b[0m in \u001b[0;36m_get_item_cache\u001b[1;34m(self, item)\u001b[0m\n\u001b[0;32m   1348\u001b[0m         \u001b[0mres\u001b[0m \u001b[1;33m=\u001b[0m \u001b[0mcache\u001b[0m\u001b[1;33m.\u001b[0m\u001b[0mget\u001b[0m\u001b[1;33m(\u001b[0m\u001b[0mitem\u001b[0m\u001b[1;33m)\u001b[0m\u001b[1;33m\u001b[0m\u001b[0m\n\u001b[0;32m   1349\u001b[0m         \u001b[1;32mif\u001b[0m \u001b[0mres\u001b[0m \u001b[1;32mis\u001b[0m \u001b[0mNone\u001b[0m\u001b[1;33m:\u001b[0m\u001b[1;33m\u001b[0m\u001b[0m\n\u001b[1;32m-> 1350\u001b[1;33m             \u001b[0mvalues\u001b[0m \u001b[1;33m=\u001b[0m \u001b[0mself\u001b[0m\u001b[1;33m.\u001b[0m\u001b[0m_data\u001b[0m\u001b[1;33m.\u001b[0m\u001b[0mget\u001b[0m\u001b[1;33m(\u001b[0m\u001b[0mitem\u001b[0m\u001b[1;33m)\u001b[0m\u001b[1;33m\u001b[0m\u001b[0m\n\u001b[0m\u001b[0;32m   1351\u001b[0m             \u001b[0mres\u001b[0m \u001b[1;33m=\u001b[0m \u001b[0mself\u001b[0m\u001b[1;33m.\u001b[0m\u001b[0m_box_item_values\u001b[0m\u001b[1;33m(\u001b[0m\u001b[0mitem\u001b[0m\u001b[1;33m,\u001b[0m \u001b[0mvalues\u001b[0m\u001b[1;33m)\u001b[0m\u001b[1;33m\u001b[0m\u001b[0m\n\u001b[0;32m   1352\u001b[0m             \u001b[0mcache\u001b[0m\u001b[1;33m[\u001b[0m\u001b[0mitem\u001b[0m\u001b[1;33m]\u001b[0m \u001b[1;33m=\u001b[0m \u001b[0mres\u001b[0m\u001b[1;33m\u001b[0m\u001b[0m\n",
      "\u001b[1;32m/usr/local/lib/python2.7/dist-packages/pandas/core/internals.pyc\u001b[0m in \u001b[0;36mget\u001b[1;34m(self, item, fastpath)\u001b[0m\n\u001b[0;32m   3288\u001b[0m \u001b[1;33m\u001b[0m\u001b[0m\n\u001b[0;32m   3289\u001b[0m             \u001b[1;32mif\u001b[0m \u001b[1;32mnot\u001b[0m \u001b[0misnull\u001b[0m\u001b[1;33m(\u001b[0m\u001b[0mitem\u001b[0m\u001b[1;33m)\u001b[0m\u001b[1;33m:\u001b[0m\u001b[1;33m\u001b[0m\u001b[0m\n\u001b[1;32m-> 3290\u001b[1;33m                 \u001b[0mloc\u001b[0m \u001b[1;33m=\u001b[0m \u001b[0mself\u001b[0m\u001b[1;33m.\u001b[0m\u001b[0mitems\u001b[0m\u001b[1;33m.\u001b[0m\u001b[0mget_loc\u001b[0m\u001b[1;33m(\u001b[0m\u001b[0mitem\u001b[0m\u001b[1;33m)\u001b[0m\u001b[1;33m\u001b[0m\u001b[0m\n\u001b[0m\u001b[0;32m   3291\u001b[0m             \u001b[1;32melse\u001b[0m\u001b[1;33m:\u001b[0m\u001b[1;33m\u001b[0m\u001b[0m\n\u001b[0;32m   3292\u001b[0m                 \u001b[0mindexer\u001b[0m \u001b[1;33m=\u001b[0m \u001b[0mnp\u001b[0m\u001b[1;33m.\u001b[0m\u001b[0marange\u001b[0m\u001b[1;33m(\u001b[0m\u001b[0mlen\u001b[0m\u001b[1;33m(\u001b[0m\u001b[0mself\u001b[0m\u001b[1;33m.\u001b[0m\u001b[0mitems\u001b[0m\u001b[1;33m)\u001b[0m\u001b[1;33m)\u001b[0m\u001b[1;33m[\u001b[0m\u001b[0misnull\u001b[0m\u001b[1;33m(\u001b[0m\u001b[0mself\u001b[0m\u001b[1;33m.\u001b[0m\u001b[0mitems\u001b[0m\u001b[1;33m)\u001b[0m\u001b[1;33m]\u001b[0m\u001b[1;33m\u001b[0m\u001b[0m\n",
      "\u001b[1;32m/usr/local/lib/python2.7/dist-packages/pandas/indexes/base.pyc\u001b[0m in \u001b[0;36mget_loc\u001b[1;34m(self, key, method, tolerance)\u001b[0m\n\u001b[0;32m   1945\u001b[0m                 \u001b[1;32mreturn\u001b[0m \u001b[0mself\u001b[0m\u001b[1;33m.\u001b[0m\u001b[0m_engine\u001b[0m\u001b[1;33m.\u001b[0m\u001b[0mget_loc\u001b[0m\u001b[1;33m(\u001b[0m\u001b[0mkey\u001b[0m\u001b[1;33m)\u001b[0m\u001b[1;33m\u001b[0m\u001b[0m\n\u001b[0;32m   1946\u001b[0m             \u001b[1;32mexcept\u001b[0m \u001b[0mKeyError\u001b[0m\u001b[1;33m:\u001b[0m\u001b[1;33m\u001b[0m\u001b[0m\n\u001b[1;32m-> 1947\u001b[1;33m                 \u001b[1;32mreturn\u001b[0m \u001b[0mself\u001b[0m\u001b[1;33m.\u001b[0m\u001b[0m_engine\u001b[0m\u001b[1;33m.\u001b[0m\u001b[0mget_loc\u001b[0m\u001b[1;33m(\u001b[0m\u001b[0mself\u001b[0m\u001b[1;33m.\u001b[0m\u001b[0m_maybe_cast_indexer\u001b[0m\u001b[1;33m(\u001b[0m\u001b[0mkey\u001b[0m\u001b[1;33m)\u001b[0m\u001b[1;33m)\u001b[0m\u001b[1;33m\u001b[0m\u001b[0m\n\u001b[0m\u001b[0;32m   1948\u001b[0m \u001b[1;33m\u001b[0m\u001b[0m\n\u001b[0;32m   1949\u001b[0m         \u001b[0mindexer\u001b[0m \u001b[1;33m=\u001b[0m \u001b[0mself\u001b[0m\u001b[1;33m.\u001b[0m\u001b[0mget_indexer\u001b[0m\u001b[1;33m(\u001b[0m\u001b[1;33m[\u001b[0m\u001b[0mkey\u001b[0m\u001b[1;33m]\u001b[0m\u001b[1;33m,\u001b[0m \u001b[0mmethod\u001b[0m\u001b[1;33m=\u001b[0m\u001b[0mmethod\u001b[0m\u001b[1;33m,\u001b[0m \u001b[0mtolerance\u001b[0m\u001b[1;33m=\u001b[0m\u001b[0mtolerance\u001b[0m\u001b[1;33m)\u001b[0m\u001b[1;33m\u001b[0m\u001b[0m\n",
      "\u001b[1;32mpandas/index.pyx\u001b[0m in \u001b[0;36mpandas.index.IndexEngine.get_loc (pandas/index.c:4154)\u001b[1;34m()\u001b[0m\n",
      "\u001b[1;32mpandas/index.pyx\u001b[0m in \u001b[0;36mpandas.index.IndexEngine.get_loc (pandas/index.c:4018)\u001b[1;34m()\u001b[0m\n",
      "\u001b[1;32mpandas/hashtable.pyx\u001b[0m in \u001b[0;36mpandas.hashtable.PyObjectHashTable.get_item (pandas/hashtable.c:12368)\u001b[1;34m()\u001b[0m\n",
      "\u001b[1;32mpandas/hashtable.pyx\u001b[0m in \u001b[0;36mpandas.hashtable.PyObjectHashTable.get_item (pandas/hashtable.c:12322)\u001b[1;34m()\u001b[0m\n",
      "\u001b[1;31mKeyError\u001b[0m: 'Cluster'"
     ]
    }
   ],
   "source": [
    "#modelList=df['Model'].unique()\n",
    "#stateList=df['Match Segment'].unique()\n",
    "clusterList=df['Cluster'].unique()\n",
    "#print(stateList)"
   ]
  },
  {
   "cell_type": "code",
   "execution_count": 24,
   "metadata": {
    "collapsed": false,
    "scrolled": true
   },
   "outputs": [],
   "source": [
    "classifier = LDA(solver='lsqr', shrinkage='auto')\n",
    "frames=[]\n",
    "keys=[]\n",
    "X=df.values[:,xcol:]\n",
    "y=df.values[:,ycol]\n",
    "y = np.array(y).astype('int')\n",
    "classifier.fit(X,y)\n",
    "frames.append(pd.DataFrame(classifier.coef_))\n",
    "keys.append('all')\n",
    "\n",
    "#data split by cluster\n",
    "#for cluster in clusterList:\n",
    "#    train_data = df.loc[df['Cluster']==cluster]\n",
    "#    X=train_data.values[:,xcol:]\n",
    "#    y=train_data.values[:,ycol]\n",
    "#    y = np.array(y).astype('int')\n",
    "    #Xtrain,Xtest,ytrain,ytest=train_test_split(X,y,stratify=y)\n",
    "#    classifier.fit(X,y)\n",
    "#    print(\"{} model has accuracy {}\".format(cluster,classifier.score(X,y)))\n",
    "#    frames.append(pd.DataFrame(classifier.coef_))\n",
    "#    keys.append(cluster)\n",
    "    \n",
    "#data split by model\n",
    "#for model in modelList:\n",
    "#    train_data = df.loc[df['Model']==model]\n",
    "#    X=train_data.values[:,4:]\n",
    "#    y=train_data.values[:,3]\n",
    "#    y = np.array(y).astype(int)\n",
    "#    #train,Xtest,ytrain,ytest=train_test_split(X,y,stratify=y)\n",
    "#    classifier.fit(X,y)\n",
    "#    print(\"{} model has accuracy {}\".format(model,classifier.score(X,y)))\n",
    "#    frames.append(pd.DataFrame(classifier.coef_))\n",
    "#    keys.append(model)\n",
    "    \n",
    "#for state in stateList:\n",
    "#    train_data = df.loc[df['Match Segment']==state]\n",
    "#    X=train_data.values[:,5:]\n",
    "#    y=train_data.values[:,4]\n",
    "#    y = np.array(y)\n",
    "#    #Xtrain,Xtest,ytrain,ytest=train_test_split(X,y,stratify=y)\n",
    "#    classifier.fit(X,y)\n",
    "#    print(\"{} state has accuracy {}\".format(state,classifier.score(X,y)))\n",
    "#    frames.append(pd.DataFrame(classifier.coef_))\n",
    "#    keys.append(state)\n",
    "\n",
    "pd.concat(frames,keys=keys).to_csv(\"results/Discriminant Analysis results.csv\")"
   ]
  },
  {
   "cell_type": "code",
   "execution_count": 25,
   "metadata": {
    "collapsed": false
   },
   "outputs": [
    {
     "name": "stdout",
     "output_type": "stream",
     "text": [
      "[0 1 2 3 4 5]\n"
     ]
    }
   ],
   "source": [
    "print(classifier.classes_)"
   ]
  },
  {
   "cell_type": "code",
   "execution_count": null,
   "metadata": {
    "collapsed": true
   },
   "outputs": [],
   "source": []
  }
 ],
 "metadata": {
  "kernelspec": {
   "display_name": "Python 2",
   "language": "python",
   "name": "python2"
  },
  "language_info": {
   "codemirror_mode": {
    "name": "ipython",
    "version": 2
   },
   "file_extension": ".py",
   "mimetype": "text/x-python",
   "name": "python",
   "nbconvert_exporter": "python",
   "pygments_lexer": "ipython2",
   "version": "2.7.6"
  }
 },
 "nbformat": 4,
 "nbformat_minor": 0
}
