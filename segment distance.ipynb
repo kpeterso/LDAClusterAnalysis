{
 "cells": [
  {
   "cell_type": "code",
   "execution_count": 1,
   "metadata": {
    "collapsed": true
   },
   "outputs": [],
   "source": [
    "import pandas as pd\n",
    "import numpy as np\n",
    "from sklearn.decomposition import PCA\n",
    "from sklearn.manifold import TSNE\n",
    "from matplotlib import pyplot as plt\n",
    "%matplotlib inline"
   ]
  },
  {
   "cell_type": "code",
   "execution_count": 2,
   "metadata": {
    "collapsed": false
   },
   "outputs": [],
   "source": [
    "#load data from excel into dataframe\n",
    "df=pd.read_excel('SV 2016 data edited 12202016.xlsx')\n",
    "df1=df.copy()"
   ]
  },
  {
   "cell_type": "code",
   "execution_count": 3,
   "metadata": {
    "collapsed": false
   },
   "outputs": [],
   "source": [
    "numCols = df1.select_dtypes(include=[np.number]).columns\n",
    "df1[numCols] = (df1[numCols]-df1[numCols].mean())/df1[numCols].std()"
   ]
  },
  {
   "cell_type": "code",
   "execution_count": 4,
   "metadata": {
    "collapsed": false
   },
   "outputs": [
    {
     "data": {
      "text/html": [
       "<div>\n",
       "<table border=\"1\" class=\"dataframe\">\n",
       "  <thead>\n",
       "    <tr style=\"text-align: right;\">\n",
       "      <th></th>\n",
       "      <th>New Model Purchased (Alpha Order)</th>\n",
       "      <th>New Model Purchased - Brand</th>\n",
       "      <th>New Model Segment</th>\n",
       "      <th>Most Important Purchase Reason (2014/2016 Version)</th>\n",
       "      <th>Segment Most Seriously Considered</th>\n",
       "      <th>Most Important Reason Didnt Buy Model Most Seriously Considered</th>\n",
       "      <th>Marital Status</th>\n",
       "      <th>Generation</th>\n",
       "      <th>Education</th>\n",
       "      <th>Occupation</th>\n",
       "      <th>...</th>\n",
       "      <th>I will easily switch brands for price or features</th>\n",
       "      <th>There are lots of different brands of vehicles that I would consider buying</th>\n",
       "      <th>I want a vehicle that provides the quietest interior</th>\n",
       "      <th>I want to look good when driving my vehicle</th>\n",
       "      <th>I want my vehicle to stand out in a crowd</th>\n",
       "      <th>I want the most versatility in my interior</th>\n",
       "      <th>I would pay significantly more for environmentally friendly vehicle</th>\n",
       "      <th>My vehicle is a reflection of my achievement</th>\n",
       "      <th>I chose my vehicle to reward myself for my hard work</th>\n",
       "      <th>The brand of vehicle I buy makes a statement about who I am</th>\n",
       "    </tr>\n",
       "  </thead>\n",
       "  <tbody>\n",
       "    <tr>\n",
       "      <th>0</th>\n",
       "      <td>Chrysler 200 Sdn</td>\n",
       "      <td>Chrysler</td>\n",
       "      <td>Mid-Size Car</td>\n",
       "      <td>Handling</td>\n",
       "      <td>SUV</td>\n",
       "      <td>Other (not listed)</td>\n",
       "      <td>Married</td>\n",
       "      <td>Leading Edge Boomers (1946 - 1959)</td>\n",
       "      <td>Some Post-Grad</td>\n",
       "      <td>Teacher, Educator - Retired</td>\n",
       "      <td>...</td>\n",
       "      <td>-1.603247</td>\n",
       "      <td>0.635340</td>\n",
       "      <td>0.094536</td>\n",
       "      <td>0.203591</td>\n",
       "      <td>-0.521968</td>\n",
       "      <td>-1.803882</td>\n",
       "      <td>-1.361810</td>\n",
       "      <td>-1.760987</td>\n",
       "      <td>-2.036783</td>\n",
       "      <td>-1.910942</td>\n",
       "    </tr>\n",
       "    <tr>\n",
       "      <th>1</th>\n",
       "      <td>Chrysler 200 Sdn</td>\n",
       "      <td>Chrysler</td>\n",
       "      <td>Mid-Size Car</td>\n",
       "      <td>Overall driving performance</td>\n",
       "      <td>Sporty Car</td>\n",
       "      <td>Available financing or leasing terms</td>\n",
       "      <td>Partnered</td>\n",
       "      <td>Generation X (1965 - 1978)</td>\n",
       "      <td>Some College</td>\n",
       "      <td>Technical Specialty</td>\n",
       "      <td>...</td>\n",
       "      <td>-1.603247</td>\n",
       "      <td>-0.163792</td>\n",
       "      <td>-1.006434</td>\n",
       "      <td>0.203591</td>\n",
       "      <td>-0.521968</td>\n",
       "      <td>-0.739908</td>\n",
       "      <td>-1.361810</td>\n",
       "      <td>-0.155964</td>\n",
       "      <td>0.448301</td>\n",
       "      <td>-0.277402</td>\n",
       "    </tr>\n",
       "    <tr>\n",
       "      <th>2</th>\n",
       "      <td>Chrysler 200 Sdn</td>\n",
       "      <td>Chrysler</td>\n",
       "      <td>Mid-Size Car</td>\n",
       "      <td>Overall exterior workmanship</td>\n",
       "      <td>Larger Car</td>\n",
       "      <td>Price/deal offered</td>\n",
       "      <td>Married</td>\n",
       "      <td>Millennials (1979 - )</td>\n",
       "      <td>College Graduate</td>\n",
       "      <td>Police, Postal, Fire</td>\n",
       "      <td>...</td>\n",
       "      <td>1.449585</td>\n",
       "      <td>1.434471</td>\n",
       "      <td>0.094536</td>\n",
       "      <td>1.157062</td>\n",
       "      <td>1.256185</td>\n",
       "      <td>0.324066</td>\n",
       "      <td>-0.514781</td>\n",
       "      <td>0.646547</td>\n",
       "      <td>1.276663</td>\n",
       "      <td>0.539367</td>\n",
       "    </tr>\n",
       "    <tr>\n",
       "      <th>3</th>\n",
       "      <td>Chrysler 200 Sdn</td>\n",
       "      <td>Chrysler</td>\n",
       "      <td>Mid-Size Car</td>\n",
       "      <td>Overall safety of the vehicle</td>\n",
       "      <td>Larger Car</td>\n",
       "      <td>Other (not listed)</td>\n",
       "      <td>Married</td>\n",
       "      <td>Millennials (1979 - )</td>\n",
       "      <td>College Graduate</td>\n",
       "      <td>Health Care</td>\n",
       "      <td>...</td>\n",
       "      <td>-0.076831</td>\n",
       "      <td>-0.163792</td>\n",
       "      <td>0.094536</td>\n",
       "      <td>-1.703352</td>\n",
       "      <td>-1.411044</td>\n",
       "      <td>-0.739908</td>\n",
       "      <td>0.332248</td>\n",
       "      <td>-0.958476</td>\n",
       "      <td>0.448301</td>\n",
       "      <td>-0.277402</td>\n",
       "    </tr>\n",
       "    <tr>\n",
       "      <th>4</th>\n",
       "      <td>Chrysler 200 Sdn</td>\n",
       "      <td>Chrysler</td>\n",
       "      <td>Mid-Size Car</td>\n",
       "      <td>Price/deal offered</td>\n",
       "      <td>Smaller Car</td>\n",
       "      <td>Didn't like it / preferred vehicle bought</td>\n",
       "      <td>Single</td>\n",
       "      <td>Millennials (1979 - )</td>\n",
       "      <td>High School Graduate</td>\n",
       "      <td>Executive/Managerial</td>\n",
       "      <td>...</td>\n",
       "      <td>-0.076831</td>\n",
       "      <td>0.635340</td>\n",
       "      <td>-1.006434</td>\n",
       "      <td>1.157062</td>\n",
       "      <td>1.256185</td>\n",
       "      <td>0.324066</td>\n",
       "      <td>2.026307</td>\n",
       "      <td>1.449058</td>\n",
       "      <td>1.276663</td>\n",
       "      <td>-0.277402</td>\n",
       "    </tr>\n",
       "  </tbody>\n",
       "</table>\n",
       "<p>5 rows × 58 columns</p>\n",
       "</div>"
      ],
      "text/plain": [
       "  New Model Purchased (Alpha Order) New Model Purchased - Brand  \\\n",
       "0                  Chrysler 200 Sdn                    Chrysler   \n",
       "1                  Chrysler 200 Sdn                    Chrysler   \n",
       "2                  Chrysler 200 Sdn                    Chrysler   \n",
       "3                  Chrysler 200 Sdn                    Chrysler   \n",
       "4                  Chrysler 200 Sdn                    Chrysler   \n",
       "\n",
       "  New Model Segment Most Important Purchase Reason (2014/2016 Version)  \\\n",
       "0      Mid-Size Car                                           Handling   \n",
       "1      Mid-Size Car                        Overall driving performance   \n",
       "2      Mid-Size Car                       Overall exterior workmanship   \n",
       "3      Mid-Size Car                      Overall safety of the vehicle   \n",
       "4      Mid-Size Car                                 Price/deal offered   \n",
       "\n",
       "  Segment Most Seriously Considered  \\\n",
       "0                               SUV   \n",
       "1                        Sporty Car   \n",
       "2                        Larger Car   \n",
       "3                        Larger Car   \n",
       "4                       Smaller Car   \n",
       "\n",
       "  Most Important Reason Didnt Buy Model Most Seriously Considered  \\\n",
       "0                                 Other (not listed)                \n",
       "1               Available financing or leasing terms                \n",
       "2                                 Price/deal offered                \n",
       "3                                 Other (not listed)                \n",
       "4          Didn't like it / preferred vehicle bought                \n",
       "\n",
       "  Marital Status                          Generation             Education  \\\n",
       "0        Married  Leading Edge Boomers (1946 - 1959)        Some Post-Grad   \n",
       "1      Partnered          Generation X (1965 - 1978)          Some College   \n",
       "2        Married               Millennials (1979 - )      College Graduate   \n",
       "3        Married               Millennials (1979 - )      College Graduate   \n",
       "4         Single               Millennials (1979 - )  High School Graduate   \n",
       "\n",
       "                    Occupation  \\\n",
       "0  Teacher, Educator - Retired   \n",
       "1          Technical Specialty   \n",
       "2         Police, Postal, Fire   \n",
       "3                  Health Care   \n",
       "4         Executive/Managerial   \n",
       "\n",
       "                              ...                               \\\n",
       "0                             ...                                \n",
       "1                             ...                                \n",
       "2                             ...                                \n",
       "3                             ...                                \n",
       "4                             ...                                \n",
       "\n",
       "  I will easily switch brands for price or features  \\\n",
       "0                                         -1.603247   \n",
       "1                                         -1.603247   \n",
       "2                                          1.449585   \n",
       "3                                         -0.076831   \n",
       "4                                         -0.076831   \n",
       "\n",
       "  There are lots of different brands of vehicles that I would consider buying  \\\n",
       "0                                           0.635340                            \n",
       "1                                          -0.163792                            \n",
       "2                                           1.434471                            \n",
       "3                                          -0.163792                            \n",
       "4                                           0.635340                            \n",
       "\n",
       "  I want a vehicle that provides the quietest interior  \\\n",
       "0                                           0.094536     \n",
       "1                                          -1.006434     \n",
       "2                                           0.094536     \n",
       "3                                           0.094536     \n",
       "4                                          -1.006434     \n",
       "\n",
       "  I want to look good when driving my vehicle  \\\n",
       "0                                    0.203591   \n",
       "1                                    0.203591   \n",
       "2                                    1.157062   \n",
       "3                                   -1.703352   \n",
       "4                                    1.157062   \n",
       "\n",
       "  I want my vehicle to stand out in a crowd  \\\n",
       "0                                 -0.521968   \n",
       "1                                 -0.521968   \n",
       "2                                  1.256185   \n",
       "3                                 -1.411044   \n",
       "4                                  1.256185   \n",
       "\n",
       "  I want the most versatility in my interior  \\\n",
       "0                                  -1.803882   \n",
       "1                                  -0.739908   \n",
       "2                                   0.324066   \n",
       "3                                  -0.739908   \n",
       "4                                   0.324066   \n",
       "\n",
       "   I would pay significantly more for environmentally friendly vehicle  \\\n",
       "0                                          -1.361810                     \n",
       "1                                          -1.361810                     \n",
       "2                                          -0.514781                     \n",
       "3                                           0.332248                     \n",
       "4                                           2.026307                     \n",
       "\n",
       "   My vehicle is a reflection of my achievement  \\\n",
       "0                                     -1.760987   \n",
       "1                                     -0.155964   \n",
       "2                                      0.646547   \n",
       "3                                     -0.958476   \n",
       "4                                      1.449058   \n",
       "\n",
       "   I chose my vehicle to reward myself for my hard work  \\\n",
       "0                                          -2.036783      \n",
       "1                                           0.448301      \n",
       "2                                           1.276663      \n",
       "3                                           0.448301      \n",
       "4                                           1.276663      \n",
       "\n",
       "   The brand of vehicle I buy makes a statement about who I am  \n",
       "0                                          -1.910942            \n",
       "1                                          -0.277402            \n",
       "2                                           0.539367            \n",
       "3                                          -0.277402            \n",
       "4                                          -0.277402            \n",
       "\n",
       "[5 rows x 58 columns]"
      ]
     },
     "execution_count": 4,
     "metadata": {},
     "output_type": "execute_result"
    }
   ],
   "source": [
    "df1.head()"
   ]
  },
  {
   "cell_type": "code",
   "execution_count": 5,
   "metadata": {
    "collapsed": true
   },
   "outputs": [],
   "source": [
    "var = 'New Model Purchased - Brand'"
   ]
  },
  {
   "cell_type": "code",
   "execution_count": 6,
   "metadata": {
    "collapsed": false
   },
   "outputs": [
    {
     "data": {
      "text/plain": [
       "array(['Chrysler', 'Dodge', 'Ford', 'Lincoln', 'Chevrolet', 'Buick',\n",
       "       'Cadillac', 'Kia', 'Subaru', 'Honda', 'Acura', 'Nissan', 'Infiniti',\n",
       "       'Scion', 'Toyota', 'Lexus', 'Mazda', 'Mitsubishi', 'Hyundai',\n",
       "       'Mini', 'BMW', 'Jaguar', 'Mercedes-Benz', 'Porsche', 'Volkswagen',\n",
       "       'Audi', 'Volvo', 'Fiat', 'smart', 'Tesla', 'Land Rover', 'Ram',\n",
       "       'Jeep', 'GMC'], dtype=object)"
      ]
     },
     "execution_count": 6,
     "metadata": {},
     "output_type": "execute_result"
    }
   ],
   "source": [
    "segmentList = df1[var].dropna().unique()\n",
    "segmentList"
   ]
  },
  {
   "cell_type": "code",
   "execution_count": 7,
   "metadata": {
    "collapsed": true
   },
   "outputs": [],
   "source": [
    "segmentFrames = []\n",
    "for s in segmentList:\n",
    "    segmentFrames.append(df1[df1[var]==s].mean())"
   ]
  },
  {
   "cell_type": "code",
   "execution_count": 8,
   "metadata": {
    "collapsed": false
   },
   "outputs": [],
   "source": [
    "segFrame = pd.concat(segmentFrames,axis=1)\n",
    "segFrame.columns=segmentList"
   ]
  },
  {
   "cell_type": "code",
   "execution_count": null,
   "metadata": {
    "collapsed": false
   },
   "outputs": [],
   "source": [
    "segFrame['smart']-segFrame['Nissan']"
   ]
  },
  {
   "cell_type": "code",
   "execution_count": 9,
   "metadata": {
    "collapsed": true
   },
   "outputs": [],
   "source": [
    "pca = PCA(n_components=2)\n",
    "Y = pca.fit_transform(segFrame.T)"
   ]
  },
  {
   "cell_type": "code",
   "execution_count": 10,
   "metadata": {
    "collapsed": false
   },
   "outputs": [
    {
     "data": {
      "image/png": "[encoded data removed]",
      "text/plain": [
       "<matplotlib.figure.Figure at 0xef28160>"
      ]
     },
     "metadata": {},
     "output_type": "display_data"
    }
   ],
   "source": [
    "plt.figure(figsize=(8,6))\n",
    "plt.scatter(Y[:,0], Y[:,1])\n",
    "for label, x, y in zip(segmentList, Y[:,0], Y[:,1]):\n",
    "    plt.annotate(\n",
    "        label,\n",
    "        xy=(x, y), xytext=(-5, 5),\n",
    "        textcoords='offset points', ha='right', va='bottom',\n",
    "        #bbox=dict(boxstyle='round,pad=0.5', fc='yellow', alpha=0.5),\n",
    "        arrowprops=dict(arrowstyle = '->', connectionstyle='arc3,rad=0'))\n",
    "plt.show()"
   ]
  },
  {
   "cell_type": "code",
   "execution_count": null,
   "metadata": {
    "collapsed": false
   },
   "outputs": [],
   "source": [
    "Y"
   ]
  },
  {
   "cell_type": "code",
   "execution_count": null,
   "metadata": {
    "collapsed": true
   },
   "outputs": [],
   "source": []
  }
 ],
 "metadata": {
  "kernelspec": {
   "display_name": "Python 3",
   "language": "python",
   "name": "python3"
  },
  "language_info": {
   "codemirror_mode": {
    "name": "ipython",
    "version": 3
   },
   "file_extension": ".py",
   "mimetype": "text/x-python",
   "name": "python",
   "nbconvert_exporter": "python",
   "pygments_lexer": "ipython3",
   "version": "3.6.0"
  }
 },
 "nbformat": 4,
 "nbformat_minor": 2
}
