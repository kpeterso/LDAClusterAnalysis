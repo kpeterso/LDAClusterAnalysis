{
 "cells": [
  {
   "cell_type": "code",
   "execution_count": 6,
   "metadata": {
    "collapsed": false
   },
   "outputs": [],
   "source": [
    "from sklearn.discriminant_analysis import QuadraticDiscriminantAnalysis as QDA\n",
    "import pandas as pd"
   ]
  },
  {
   "cell_type": "code",
   "execution_count": 9,
   "metadata": {
    "collapsed": false
   },
   "outputs": [
    {
     "name": "stdout",
     "output_type": "stream",
     "text": [
      "0.271876350022\n"
     ]
    }
   ],
   "source": [
    "df_test=pd.read_csv('Data/LDA_data.csv', sep=',')\n",
    "df_train=pd.read_csv('Data/LDA_data_sample.csv', sep=',')\n",
    "train_data=df_train.values\n",
    "y_train=train_data[:,0]\n",
    "X_train=train_data[:,1:]\n",
    "test_data=df_test.values\n",
    "y_test=test_data[:,0]\n",
    "X_test=test_data[:,1:]\n",
    "clf = QDA()\n",
    "clf.fit(X_train, y_train)\n",
    "print(clf.score(X_test,y_test))"
   ]
  },
  {
   "cell_type": "code",
   "execution_count": null,
   "metadata": {
    "collapsed": true
   },
   "outputs": [],
   "source": []
  }
 ],
 "metadata": {
  "kernelspec": {
   "display_name": "Python 2",
   "language": "python",
   "name": "python2"
  },
  "language_info": {
   "codemirror_mode": {
    "name": "ipython",
    "version": 2
   },
   "file_extension": ".py",
   "mimetype": "text/x-python",
   "name": "python",
   "nbconvert_exporter": "python",
   "pygments_lexer": "ipython2",
   "version": "2.7.6"
  }
 },
 "nbformat": 4,
 "nbformat_minor": 0
}
